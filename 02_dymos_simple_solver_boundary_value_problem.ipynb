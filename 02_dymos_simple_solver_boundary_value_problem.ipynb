{
  "nbformat": 4,
  "nbformat_minor": 0,
  "metadata": {
    "colab": {
      "name": "02_dymos_simple_solver_boundary_value_problem.ipynb",
      "provenance": [],
      "collapsed_sections": [],
      "toc_visible": true,
      "authorship_tag": "ABX9TyNjgKJaGfJO8KFyxF6Oxg4+",
      "include_colab_link": true
    },
    "kernelspec": {
      "name": "python3",
      "display_name": "Python 3"
    },
    "widgets": {
      "application/vnd.jupyter.widget-state+json": {
        "e403c0ade48442d887a098e7609b18b9": {
          "model_module": "@jupyter-widgets/controls",
          "model_name": "GridBoxModel",
          "state": {
            "_view_name": "GridBoxView",
            "_dom_classes": [],
            "_model_name": "GridBoxModel",
            "_view_module": "@jupyter-widgets/controls",
            "_model_module_version": "1.5.0",
            "_view_count": null,
            "_view_module_version": "1.5.0",
            "box_style": "",
            "layout": "IPY_MODEL_2dd20df374b54ace949fdc0db3909bca",
            "_model_module": "@jupyter-widgets/controls",
            "children": [
              "IPY_MODEL_5f4f2ccc159745a99dabedf703f2bd57",
              "IPY_MODEL_b63499f93978448cabbd39a2ea688739",
              "IPY_MODEL_1fbd02b99ccd4165a5b79bdf89b456b8",
              "IPY_MODEL_b9d754ae2ff84b9a8eba84be5f675274",
              "IPY_MODEL_e0178a6b4bc34654b1b09287b5a7f8da",
              "IPY_MODEL_4718a0bc88304b8c98019ff55f735228",
              "IPY_MODEL_3a0b0fb8146241b3bc052bb298912a5f",
              "IPY_MODEL_59ce34013aa246729c8334863762c32d"
            ]
          }
        },
        "2dd20df374b54ace949fdc0db3909bca": {
          "model_module": "@jupyter-widgets/base",
          "model_name": "LayoutModel",
          "state": {
            "_view_name": "LayoutView",
            "grid_template_rows": null,
            "right": null,
            "justify_content": null,
            "_view_module": "@jupyter-widgets/base",
            "overflow": null,
            "_model_module_version": "1.2.0",
            "_view_count": null,
            "flex_flow": null,
            "width": null,
            "min_width": null,
            "border": null,
            "align_items": null,
            "bottom": null,
            "_model_module": "@jupyter-widgets/base",
            "top": null,
            "grid_column": null,
            "overflow_y": null,
            "overflow_x": null,
            "grid_auto_flow": null,
            "grid_area": null,
            "grid_template_columns": "repeat(2, 500px)",
            "flex": null,
            "_model_name": "LayoutModel",
            "justify_items": null,
            "grid_row": null,
            "max_height": null,
            "align_content": null,
            "visibility": null,
            "align_self": null,
            "height": null,
            "min_height": null,
            "padding": null,
            "grid_auto_rows": null,
            "grid_gap": null,
            "max_width": null,
            "order": null,
            "_view_module_version": "1.2.0",
            "grid_template_areas": null,
            "object_position": null,
            "object_fit": null,
            "grid_auto_columns": null,
            "margin": null,
            "display": null,
            "left": null
          }
        },
        "5f4f2ccc159745a99dabedf703f2bd57": {
          "model_module": "@jupyter-widgets/controls",
          "model_name": "ImageModel",
          "state": {
            "_view_name": "ImageView",
            "_dom_classes": [],
            "_model_name": "ImageModel",
            "format": "png",
            "_view_module": "@jupyter-widgets/controls",
            "_model_module_version": "1.5.0",
            "_view_count": null,
            "width": "",
            "_view_module_version": "1.5.0",
            "layout": "IPY_MODEL_edd924d22ba944b2b658e8993643f859",
            "height": "",
            "_model_module": "@jupyter-widgets/controls"
          }
        },
        "b63499f93978448cabbd39a2ea688739": {
          "model_module": "@jupyter-widgets/controls",
          "model_name": "ImageModel",
          "state": {
            "_view_name": "ImageView",
            "_dom_classes": [],
            "_model_name": "ImageModel",
            "format": "png",
            "_view_module": "@jupyter-widgets/controls",
            "_model_module_version": "1.5.0",
            "_view_count": null,
            "width": "",
            "_view_module_version": "1.5.0",
            "layout": "IPY_MODEL_cc33f3f2e05c440f836dafccfd6d760b",
            "height": "",
            "_model_module": "@jupyter-widgets/controls"
          }
        },
        "1fbd02b99ccd4165a5b79bdf89b456b8": {
          "model_module": "@jupyter-widgets/controls",
          "model_name": "ImageModel",
          "state": {
            "_view_name": "ImageView",
            "_dom_classes": [],
            "_model_name": "ImageModel",
            "format": "png",
            "_view_module": "@jupyter-widgets/controls",
            "_model_module_version": "1.5.0",
            "_view_count": null,
            "width": "",
            "_view_module_version": "1.5.0",
            "layout": "IPY_MODEL_5872856d5e2243418656cfb4b3c82944",
            "height": "",
            "_model_module": "@jupyter-widgets/controls"
          }
        },
        "b9d754ae2ff84b9a8eba84be5f675274": {
          "model_module": "@jupyter-widgets/controls",
          "model_name": "ImageModel",
          "state": {
            "_view_name": "ImageView",
            "_dom_classes": [],
            "_model_name": "ImageModel",
            "format": "png",
            "_view_module": "@jupyter-widgets/controls",
            "_model_module_version": "1.5.0",
            "_view_count": null,
            "width": "",
            "_view_module_version": "1.5.0",
            "layout": "IPY_MODEL_dd10a54b758843fb90aa18af67209522",
            "height": "",
            "_model_module": "@jupyter-widgets/controls"
          }
        },
        "e0178a6b4bc34654b1b09287b5a7f8da": {
          "model_module": "@jupyter-widgets/controls",
          "model_name": "ImageModel",
          "state": {
            "_view_name": "ImageView",
            "_dom_classes": [],
            "_model_name": "ImageModel",
            "format": "png",
            "_view_module": "@jupyter-widgets/controls",
            "_model_module_version": "1.5.0",
            "_view_count": null,
            "width": "",
            "_view_module_version": "1.5.0",
            "layout": "IPY_MODEL_26af3faf6aae45d19cf276e477bc8a82",
            "height": "",
            "_model_module": "@jupyter-widgets/controls"
          }
        },
        "4718a0bc88304b8c98019ff55f735228": {
          "model_module": "@jupyter-widgets/controls",
          "model_name": "ImageModel",
          "state": {
            "_view_name": "ImageView",
            "_dom_classes": [],
            "_model_name": "ImageModel",
            "format": "png",
            "_view_module": "@jupyter-widgets/controls",
            "_model_module_version": "1.5.0",
            "_view_count": null,
            "width": "",
            "_view_module_version": "1.5.0",
            "layout": "IPY_MODEL_a82083051e4e433399fe5d75343a47bb",
            "height": "",
            "_model_module": "@jupyter-widgets/controls"
          }
        },
        "3a0b0fb8146241b3bc052bb298912a5f": {
          "model_module": "@jupyter-widgets/controls",
          "model_name": "ImageModel",
          "state": {
            "_view_name": "ImageView",
            "_dom_classes": [],
            "_model_name": "ImageModel",
            "format": "png",
            "_view_module": "@jupyter-widgets/controls",
            "_model_module_version": "1.5.0",
            "_view_count": null,
            "width": "",
            "_view_module_version": "1.5.0",
            "layout": "IPY_MODEL_5af7385a53ee42e6bc764461dc184126",
            "height": "",
            "_model_module": "@jupyter-widgets/controls"
          }
        },
        "59ce34013aa246729c8334863762c32d": {
          "model_module": "@jupyter-widgets/controls",
          "model_name": "ImageModel",
          "state": {
            "_view_name": "ImageView",
            "_dom_classes": [],
            "_model_name": "ImageModel",
            "format": "png",
            "_view_module": "@jupyter-widgets/controls",
            "_model_module_version": "1.5.0",
            "_view_count": null,
            "width": "",
            "_view_module_version": "1.5.0",
            "layout": "IPY_MODEL_af40624362cd47c5aa6254fc9a1abbfd",
            "height": "",
            "_model_module": "@jupyter-widgets/controls"
          }
        },
        "edd924d22ba944b2b658e8993643f859": {
          "model_module": "@jupyter-widgets/base",
          "model_name": "LayoutModel",
          "state": {
            "_view_name": "LayoutView",
            "grid_template_rows": null,
            "right": null,
            "justify_content": null,
            "_view_module": "@jupyter-widgets/base",
            "overflow": null,
            "_model_module_version": "1.2.0",
            "_view_count": null,
            "flex_flow": null,
            "width": null,
            "min_width": null,
            "border": null,
            "align_items": null,
            "bottom": null,
            "_model_module": "@jupyter-widgets/base",
            "top": null,
            "grid_column": null,
            "overflow_y": null,
            "overflow_x": null,
            "grid_auto_flow": null,
            "grid_area": null,
            "grid_template_columns": null,
            "flex": null,
            "_model_name": "LayoutModel",
            "justify_items": null,
            "grid_row": null,
            "max_height": null,
            "align_content": null,
            "visibility": null,
            "align_self": null,
            "height": null,
            "min_height": null,
            "padding": null,
            "grid_auto_rows": null,
            "grid_gap": null,
            "max_width": null,
            "order": null,
            "_view_module_version": "1.2.0",
            "grid_template_areas": null,
            "object_position": null,
            "object_fit": null,
            "grid_auto_columns": null,
            "margin": null,
            "display": null,
            "left": null
          }
        },
        "cc33f3f2e05c440f836dafccfd6d760b": {
          "model_module": "@jupyter-widgets/base",
          "model_name": "LayoutModel",
          "state": {
            "_view_name": "LayoutView",
            "grid_template_rows": null,
            "right": null,
            "justify_content": null,
            "_view_module": "@jupyter-widgets/base",
            "overflow": null,
            "_model_module_version": "1.2.0",
            "_view_count": null,
            "flex_flow": null,
            "width": null,
            "min_width": null,
            "border": null,
            "align_items": null,
            "bottom": null,
            "_model_module": "@jupyter-widgets/base",
            "top": null,
            "grid_column": null,
            "overflow_y": null,
            "overflow_x": null,
            "grid_auto_flow": null,
            "grid_area": null,
            "grid_template_columns": null,
            "flex": null,
            "_model_name": "LayoutModel",
            "justify_items": null,
            "grid_row": null,
            "max_height": null,
            "align_content": null,
            "visibility": null,
            "align_self": null,
            "height": null,
            "min_height": null,
            "padding": null,
            "grid_auto_rows": null,
            "grid_gap": null,
            "max_width": null,
            "order": null,
            "_view_module_version": "1.2.0",
            "grid_template_areas": null,
            "object_position": null,
            "object_fit": null,
            "grid_auto_columns": null,
            "margin": null,
            "display": null,
            "left": null
          }
        },
        "5872856d5e2243418656cfb4b3c82944": {
          "model_module": "@jupyter-widgets/base",
          "model_name": "LayoutModel",
          "state": {
            "_view_name": "LayoutView",
            "grid_template_rows": null,
            "right": null,
            "justify_content": null,
            "_view_module": "@jupyter-widgets/base",
            "overflow": null,
            "_model_module_version": "1.2.0",
            "_view_count": null,
            "flex_flow": null,
            "width": null,
            "min_width": null,
            "border": null,
            "align_items": null,
            "bottom": null,
            "_model_module": "@jupyter-widgets/base",
            "top": null,
            "grid_column": null,
            "overflow_y": null,
            "overflow_x": null,
            "grid_auto_flow": null,
            "grid_area": null,
            "grid_template_columns": null,
            "flex": null,
            "_model_name": "LayoutModel",
            "justify_items": null,
            "grid_row": null,
            "max_height": null,
            "align_content": null,
            "visibility": null,
            "align_self": null,
            "height": null,
            "min_height": null,
            "padding": null,
            "grid_auto_rows": null,
            "grid_gap": null,
            "max_width": null,
            "order": null,
            "_view_module_version": "1.2.0",
            "grid_template_areas": null,
            "object_position": null,
            "object_fit": null,
            "grid_auto_columns": null,
            "margin": null,
            "display": null,
            "left": null
          }
        },
        "dd10a54b758843fb90aa18af67209522": {
          "model_module": "@jupyter-widgets/base",
          "model_name": "LayoutModel",
          "state": {
            "_view_name": "LayoutView",
            "grid_template_rows": null,
            "right": null,
            "justify_content": null,
            "_view_module": "@jupyter-widgets/base",
            "overflow": null,
            "_model_module_version": "1.2.0",
            "_view_count": null,
            "flex_flow": null,
            "width": null,
            "min_width": null,
            "border": null,
            "align_items": null,
            "bottom": null,
            "_model_module": "@jupyter-widgets/base",
            "top": null,
            "grid_column": null,
            "overflow_y": null,
            "overflow_x": null,
            "grid_auto_flow": null,
            "grid_area": null,
            "grid_template_columns": null,
            "flex": null,
            "_model_name": "LayoutModel",
            "justify_items": null,
            "grid_row": null,
            "max_height": null,
            "align_content": null,
            "visibility": null,
            "align_self": null,
            "height": null,
            "min_height": null,
            "padding": null,
            "grid_auto_rows": null,
            "grid_gap": null,
            "max_width": null,
            "order": null,
            "_view_module_version": "1.2.0",
            "grid_template_areas": null,
            "object_position": null,
            "object_fit": null,
            "grid_auto_columns": null,
            "margin": null,
            "display": null,
            "left": null
          }
        },
        "26af3faf6aae45d19cf276e477bc8a82": {
          "model_module": "@jupyter-widgets/base",
          "model_name": "LayoutModel",
          "state": {
            "_view_name": "LayoutView",
            "grid_template_rows": null,
            "right": null,
            "justify_content": null,
            "_view_module": "@jupyter-widgets/base",
            "overflow": null,
            "_model_module_version": "1.2.0",
            "_view_count": null,
            "flex_flow": null,
            "width": null,
            "min_width": null,
            "border": null,
            "align_items": null,
            "bottom": null,
            "_model_module": "@jupyter-widgets/base",
            "top": null,
            "grid_column": null,
            "overflow_y": null,
            "overflow_x": null,
            "grid_auto_flow": null,
            "grid_area": null,
            "grid_template_columns": null,
            "flex": null,
            "_model_name": "LayoutModel",
            "justify_items": null,
            "grid_row": null,
            "max_height": null,
            "align_content": null,
            "visibility": null,
            "align_self": null,
            "height": null,
            "min_height": null,
            "padding": null,
            "grid_auto_rows": null,
            "grid_gap": null,
            "max_width": null,
            "order": null,
            "_view_module_version": "1.2.0",
            "grid_template_areas": null,
            "object_position": null,
            "object_fit": null,
            "grid_auto_columns": null,
            "margin": null,
            "display": null,
            "left": null
          }
        },
        "a82083051e4e433399fe5d75343a47bb": {
          "model_module": "@jupyter-widgets/base",
          "model_name": "LayoutModel",
          "state": {
            "_view_name": "LayoutView",
            "grid_template_rows": null,
            "right": null,
            "justify_content": null,
            "_view_module": "@jupyter-widgets/base",
            "overflow": null,
            "_model_module_version": "1.2.0",
            "_view_count": null,
            "flex_flow": null,
            "width": null,
            "min_width": null,
            "border": null,
            "align_items": null,
            "bottom": null,
            "_model_module": "@jupyter-widgets/base",
            "top": null,
            "grid_column": null,
            "overflow_y": null,
            "overflow_x": null,
            "grid_auto_flow": null,
            "grid_area": null,
            "grid_template_columns": null,
            "flex": null,
            "_model_name": "LayoutModel",
            "justify_items": null,
            "grid_row": null,
            "max_height": null,
            "align_content": null,
            "visibility": null,
            "align_self": null,
            "height": null,
            "min_height": null,
            "padding": null,
            "grid_auto_rows": null,
            "grid_gap": null,
            "max_width": null,
            "order": null,
            "_view_module_version": "1.2.0",
            "grid_template_areas": null,
            "object_position": null,
            "object_fit": null,
            "grid_auto_columns": null,
            "margin": null,
            "display": null,
            "left": null
          }
        },
        "5af7385a53ee42e6bc764461dc184126": {
          "model_module": "@jupyter-widgets/base",
          "model_name": "LayoutModel",
          "state": {
            "_view_name": "LayoutView",
            "grid_template_rows": null,
            "right": null,
            "justify_content": null,
            "_view_module": "@jupyter-widgets/base",
            "overflow": null,
            "_model_module_version": "1.2.0",
            "_view_count": null,
            "flex_flow": null,
            "width": null,
            "min_width": null,
            "border": null,
            "align_items": null,
            "bottom": null,
            "_model_module": "@jupyter-widgets/base",
            "top": null,
            "grid_column": null,
            "overflow_y": null,
            "overflow_x": null,
            "grid_auto_flow": null,
            "grid_area": null,
            "grid_template_columns": null,
            "flex": null,
            "_model_name": "LayoutModel",
            "justify_items": null,
            "grid_row": null,
            "max_height": null,
            "align_content": null,
            "visibility": null,
            "align_self": null,
            "height": null,
            "min_height": null,
            "padding": null,
            "grid_auto_rows": null,
            "grid_gap": null,
            "max_width": null,
            "order": null,
            "_view_module_version": "1.2.0",
            "grid_template_areas": null,
            "object_position": null,
            "object_fit": null,
            "grid_auto_columns": null,
            "margin": null,
            "display": null,
            "left": null
          }
        },
        "af40624362cd47c5aa6254fc9a1abbfd": {
          "model_module": "@jupyter-widgets/base",
          "model_name": "LayoutModel",
          "state": {
            "_view_name": "LayoutView",
            "grid_template_rows": null,
            "right": null,
            "justify_content": null,
            "_view_module": "@jupyter-widgets/base",
            "overflow": null,
            "_model_module_version": "1.2.0",
            "_view_count": null,
            "flex_flow": null,
            "width": null,
            "min_width": null,
            "border": null,
            "align_items": null,
            "bottom": null,
            "_model_module": "@jupyter-widgets/base",
            "top": null,
            "grid_column": null,
            "overflow_y": null,
            "overflow_x": null,
            "grid_auto_flow": null,
            "grid_area": null,
            "grid_template_columns": null,
            "flex": null,
            "_model_name": "LayoutModel",
            "justify_items": null,
            "grid_row": null,
            "max_height": null,
            "align_content": null,
            "visibility": null,
            "align_self": null,
            "height": null,
            "min_height": null,
            "padding": null,
            "grid_auto_rows": null,
            "grid_gap": null,
            "max_width": null,
            "order": null,
            "_view_module_version": "1.2.0",
            "grid_template_areas": null,
            "object_position": null,
            "object_fit": null,
            "grid_auto_columns": null,
            "margin": null,
            "display": null,
            "left": null
          }
        },
        "5f17bac8c2e74c4f8d951873a634475e": {
          "model_module": "@jupyter-widgets/controls",
          "model_name": "GridBoxModel",
          "state": {
            "_view_name": "GridBoxView",
            "_dom_classes": [],
            "_model_name": "GridBoxModel",
            "_view_module": "@jupyter-widgets/controls",
            "_model_module_version": "1.5.0",
            "_view_count": null,
            "_view_module_version": "1.5.0",
            "box_style": "",
            "layout": "IPY_MODEL_88f4baf3031840b59feab57bbb03c970",
            "_model_module": "@jupyter-widgets/controls",
            "children": [
              "IPY_MODEL_34dbda8952884438a090e8ec4194ebb0",
              "IPY_MODEL_d9120d3723c4420a9988a9f2c292c68a",
              "IPY_MODEL_a4cf2431ead049d88798126af67602ad",
              "IPY_MODEL_12f6a7bc82c64a108fd52ae45dce45df",
              "IPY_MODEL_7d46f6c936814a76b6cfaded604a8567",
              "IPY_MODEL_6201da6bbcfb4307b17b536deb13f648",
              "IPY_MODEL_ae602801898c4478bc4331755e928ccc",
              "IPY_MODEL_5aaa78a3c473426c9c8c04f67d7102a7"
            ]
          }
        },
        "88f4baf3031840b59feab57bbb03c970": {
          "model_module": "@jupyter-widgets/base",
          "model_name": "LayoutModel",
          "state": {
            "_view_name": "LayoutView",
            "grid_template_rows": null,
            "right": null,
            "justify_content": null,
            "_view_module": "@jupyter-widgets/base",
            "overflow": null,
            "_model_module_version": "1.2.0",
            "_view_count": null,
            "flex_flow": null,
            "width": null,
            "min_width": null,
            "border": null,
            "align_items": null,
            "bottom": null,
            "_model_module": "@jupyter-widgets/base",
            "top": null,
            "grid_column": null,
            "overflow_y": null,
            "overflow_x": null,
            "grid_auto_flow": null,
            "grid_area": null,
            "grid_template_columns": "repeat(2, 500px)",
            "flex": null,
            "_model_name": "LayoutModel",
            "justify_items": null,
            "grid_row": null,
            "max_height": null,
            "align_content": null,
            "visibility": null,
            "align_self": null,
            "height": null,
            "min_height": null,
            "padding": null,
            "grid_auto_rows": null,
            "grid_gap": null,
            "max_width": null,
            "order": null,
            "_view_module_version": "1.2.0",
            "grid_template_areas": null,
            "object_position": null,
            "object_fit": null,
            "grid_auto_columns": null,
            "margin": null,
            "display": null,
            "left": null
          }
        },
        "34dbda8952884438a090e8ec4194ebb0": {
          "model_module": "@jupyter-widgets/controls",
          "model_name": "ImageModel",
          "state": {
            "_view_name": "ImageView",
            "_dom_classes": [],
            "_model_name": "ImageModel",
            "format": "png",
            "_view_module": "@jupyter-widgets/controls",
            "_model_module_version": "1.5.0",
            "_view_count": null,
            "width": "",
            "_view_module_version": "1.5.0",
            "layout": "IPY_MODEL_f3154a8e029c4484b50fdda3ada76566",
            "height": "",
            "_model_module": "@jupyter-widgets/controls"
          }
        },
        "d9120d3723c4420a9988a9f2c292c68a": {
          "model_module": "@jupyter-widgets/controls",
          "model_name": "ImageModel",
          "state": {
            "_view_name": "ImageView",
            "_dom_classes": [],
            "_model_name": "ImageModel",
            "format": "png",
            "_view_module": "@jupyter-widgets/controls",
            "_model_module_version": "1.5.0",
            "_view_count": null,
            "width": "",
            "_view_module_version": "1.5.0",
            "layout": "IPY_MODEL_06a92a44330c420b99491af03fc39c26",
            "height": "",
            "_model_module": "@jupyter-widgets/controls"
          }
        },
        "a4cf2431ead049d88798126af67602ad": {
          "model_module": "@jupyter-widgets/controls",
          "model_name": "ImageModel",
          "state": {
            "_view_name": "ImageView",
            "_dom_classes": [],
            "_model_name": "ImageModel",
            "format": "png",
            "_view_module": "@jupyter-widgets/controls",
            "_model_module_version": "1.5.0",
            "_view_count": null,
            "width": "",
            "_view_module_version": "1.5.0",
            "layout": "IPY_MODEL_ddba3565fbdc4b6ab9705eb963c795f8",
            "height": "",
            "_model_module": "@jupyter-widgets/controls"
          }
        },
        "12f6a7bc82c64a108fd52ae45dce45df": {
          "model_module": "@jupyter-widgets/controls",
          "model_name": "ImageModel",
          "state": {
            "_view_name": "ImageView",
            "_dom_classes": [],
            "_model_name": "ImageModel",
            "format": "png",
            "_view_module": "@jupyter-widgets/controls",
            "_model_module_version": "1.5.0",
            "_view_count": null,
            "width": "",
            "_view_module_version": "1.5.0",
            "layout": "IPY_MODEL_493a7e920f8d47eda4a2c5b8430b41b3",
            "height": "",
            "_model_module": "@jupyter-widgets/controls"
          }
        },
        "7d46f6c936814a76b6cfaded604a8567": {
          "model_module": "@jupyter-widgets/controls",
          "model_name": "ImageModel",
          "state": {
            "_view_name": "ImageView",
            "_dom_classes": [],
            "_model_name": "ImageModel",
            "format": "png",
            "_view_module": "@jupyter-widgets/controls",
            "_model_module_version": "1.5.0",
            "_view_count": null,
            "width": "",
            "_view_module_version": "1.5.0",
            "layout": "IPY_MODEL_a32cdc0e779b4fcead1496f4e832db0d",
            "height": "",
            "_model_module": "@jupyter-widgets/controls"
          }
        },
        "6201da6bbcfb4307b17b536deb13f648": {
          "model_module": "@jupyter-widgets/controls",
          "model_name": "ImageModel",
          "state": {
            "_view_name": "ImageView",
            "_dom_classes": [],
            "_model_name": "ImageModel",
            "format": "png",
            "_view_module": "@jupyter-widgets/controls",
            "_model_module_version": "1.5.0",
            "_view_count": null,
            "width": "",
            "_view_module_version": "1.5.0",
            "layout": "IPY_MODEL_39a0d8167d5b49afb7a154d1c06597fe",
            "height": "",
            "_model_module": "@jupyter-widgets/controls"
          }
        },
        "ae602801898c4478bc4331755e928ccc": {
          "model_module": "@jupyter-widgets/controls",
          "model_name": "ImageModel",
          "state": {
            "_view_name": "ImageView",
            "_dom_classes": [],
            "_model_name": "ImageModel",
            "format": "png",
            "_view_module": "@jupyter-widgets/controls",
            "_model_module_version": "1.5.0",
            "_view_count": null,
            "width": "",
            "_view_module_version": "1.5.0",
            "layout": "IPY_MODEL_061c6dc7ee28459d9fe35549b896bdf9",
            "height": "",
            "_model_module": "@jupyter-widgets/controls"
          }
        },
        "5aaa78a3c473426c9c8c04f67d7102a7": {
          "model_module": "@jupyter-widgets/controls",
          "model_name": "ImageModel",
          "state": {
            "_view_name": "ImageView",
            "_dom_classes": [],
            "_model_name": "ImageModel",
            "format": "png",
            "_view_module": "@jupyter-widgets/controls",
            "_model_module_version": "1.5.0",
            "_view_count": null,
            "width": "",
            "_view_module_version": "1.5.0",
            "layout": "IPY_MODEL_53fa3464cfe24853a4afb67839ab26e0",
            "height": "",
            "_model_module": "@jupyter-widgets/controls"
          }
        },
        "f3154a8e029c4484b50fdda3ada76566": {
          "model_module": "@jupyter-widgets/base",
          "model_name": "LayoutModel",
          "state": {
            "_view_name": "LayoutView",
            "grid_template_rows": null,
            "right": null,
            "justify_content": null,
            "_view_module": "@jupyter-widgets/base",
            "overflow": null,
            "_model_module_version": "1.2.0",
            "_view_count": null,
            "flex_flow": null,
            "width": null,
            "min_width": null,
            "border": null,
            "align_items": null,
            "bottom": null,
            "_model_module": "@jupyter-widgets/base",
            "top": null,
            "grid_column": null,
            "overflow_y": null,
            "overflow_x": null,
            "grid_auto_flow": null,
            "grid_area": null,
            "grid_template_columns": null,
            "flex": null,
            "_model_name": "LayoutModel",
            "justify_items": null,
            "grid_row": null,
            "max_height": null,
            "align_content": null,
            "visibility": null,
            "align_self": null,
            "height": null,
            "min_height": null,
            "padding": null,
            "grid_auto_rows": null,
            "grid_gap": null,
            "max_width": null,
            "order": null,
            "_view_module_version": "1.2.0",
            "grid_template_areas": null,
            "object_position": null,
            "object_fit": null,
            "grid_auto_columns": null,
            "margin": null,
            "display": null,
            "left": null
          }
        },
        "06a92a44330c420b99491af03fc39c26": {
          "model_module": "@jupyter-widgets/base",
          "model_name": "LayoutModel",
          "state": {
            "_view_name": "LayoutView",
            "grid_template_rows": null,
            "right": null,
            "justify_content": null,
            "_view_module": "@jupyter-widgets/base",
            "overflow": null,
            "_model_module_version": "1.2.0",
            "_view_count": null,
            "flex_flow": null,
            "width": null,
            "min_width": null,
            "border": null,
            "align_items": null,
            "bottom": null,
            "_model_module": "@jupyter-widgets/base",
            "top": null,
            "grid_column": null,
            "overflow_y": null,
            "overflow_x": null,
            "grid_auto_flow": null,
            "grid_area": null,
            "grid_template_columns": null,
            "flex": null,
            "_model_name": "LayoutModel",
            "justify_items": null,
            "grid_row": null,
            "max_height": null,
            "align_content": null,
            "visibility": null,
            "align_self": null,
            "height": null,
            "min_height": null,
            "padding": null,
            "grid_auto_rows": null,
            "grid_gap": null,
            "max_width": null,
            "order": null,
            "_view_module_version": "1.2.0",
            "grid_template_areas": null,
            "object_position": null,
            "object_fit": null,
            "grid_auto_columns": null,
            "margin": null,
            "display": null,
            "left": null
          }
        },
        "ddba3565fbdc4b6ab9705eb963c795f8": {
          "model_module": "@jupyter-widgets/base",
          "model_name": "LayoutModel",
          "state": {
            "_view_name": "LayoutView",
            "grid_template_rows": null,
            "right": null,
            "justify_content": null,
            "_view_module": "@jupyter-widgets/base",
            "overflow": null,
            "_model_module_version": "1.2.0",
            "_view_count": null,
            "flex_flow": null,
            "width": null,
            "min_width": null,
            "border": null,
            "align_items": null,
            "bottom": null,
            "_model_module": "@jupyter-widgets/base",
            "top": null,
            "grid_column": null,
            "overflow_y": null,
            "overflow_x": null,
            "grid_auto_flow": null,
            "grid_area": null,
            "grid_template_columns": null,
            "flex": null,
            "_model_name": "LayoutModel",
            "justify_items": null,
            "grid_row": null,
            "max_height": null,
            "align_content": null,
            "visibility": null,
            "align_self": null,
            "height": null,
            "min_height": null,
            "padding": null,
            "grid_auto_rows": null,
            "grid_gap": null,
            "max_width": null,
            "order": null,
            "_view_module_version": "1.2.0",
            "grid_template_areas": null,
            "object_position": null,
            "object_fit": null,
            "grid_auto_columns": null,
            "margin": null,
            "display": null,
            "left": null
          }
        },
        "493a7e920f8d47eda4a2c5b8430b41b3": {
          "model_module": "@jupyter-widgets/base",
          "model_name": "LayoutModel",
          "state": {
            "_view_name": "LayoutView",
            "grid_template_rows": null,
            "right": null,
            "justify_content": null,
            "_view_module": "@jupyter-widgets/base",
            "overflow": null,
            "_model_module_version": "1.2.0",
            "_view_count": null,
            "flex_flow": null,
            "width": null,
            "min_width": null,
            "border": null,
            "align_items": null,
            "bottom": null,
            "_model_module": "@jupyter-widgets/base",
            "top": null,
            "grid_column": null,
            "overflow_y": null,
            "overflow_x": null,
            "grid_auto_flow": null,
            "grid_area": null,
            "grid_template_columns": null,
            "flex": null,
            "_model_name": "LayoutModel",
            "justify_items": null,
            "grid_row": null,
            "max_height": null,
            "align_content": null,
            "visibility": null,
            "align_self": null,
            "height": null,
            "min_height": null,
            "padding": null,
            "grid_auto_rows": null,
            "grid_gap": null,
            "max_width": null,
            "order": null,
            "_view_module_version": "1.2.0",
            "grid_template_areas": null,
            "object_position": null,
            "object_fit": null,
            "grid_auto_columns": null,
            "margin": null,
            "display": null,
            "left": null
          }
        },
        "a32cdc0e779b4fcead1496f4e832db0d": {
          "model_module": "@jupyter-widgets/base",
          "model_name": "LayoutModel",
          "state": {
            "_view_name": "LayoutView",
            "grid_template_rows": null,
            "right": null,
            "justify_content": null,
            "_view_module": "@jupyter-widgets/base",
            "overflow": null,
            "_model_module_version": "1.2.0",
            "_view_count": null,
            "flex_flow": null,
            "width": null,
            "min_width": null,
            "border": null,
            "align_items": null,
            "bottom": null,
            "_model_module": "@jupyter-widgets/base",
            "top": null,
            "grid_column": null,
            "overflow_y": null,
            "overflow_x": null,
            "grid_auto_flow": null,
            "grid_area": null,
            "grid_template_columns": null,
            "flex": null,
            "_model_name": "LayoutModel",
            "justify_items": null,
            "grid_row": null,
            "max_height": null,
            "align_content": null,
            "visibility": null,
            "align_self": null,
            "height": null,
            "min_height": null,
            "padding": null,
            "grid_auto_rows": null,
            "grid_gap": null,
            "max_width": null,
            "order": null,
            "_view_module_version": "1.2.0",
            "grid_template_areas": null,
            "object_position": null,
            "object_fit": null,
            "grid_auto_columns": null,
            "margin": null,
            "display": null,
            "left": null
          }
        },
        "39a0d8167d5b49afb7a154d1c06597fe": {
          "model_module": "@jupyter-widgets/base",
          "model_name": "LayoutModel",
          "state": {
            "_view_name": "LayoutView",
            "grid_template_rows": null,
            "right": null,
            "justify_content": null,
            "_view_module": "@jupyter-widgets/base",
            "overflow": null,
            "_model_module_version": "1.2.0",
            "_view_count": null,
            "flex_flow": null,
            "width": null,
            "min_width": null,
            "border": null,
            "align_items": null,
            "bottom": null,
            "_model_module": "@jupyter-widgets/base",
            "top": null,
            "grid_column": null,
            "overflow_y": null,
            "overflow_x": null,
            "grid_auto_flow": null,
            "grid_area": null,
            "grid_template_columns": null,
            "flex": null,
            "_model_name": "LayoutModel",
            "justify_items": null,
            "grid_row": null,
            "max_height": null,
            "align_content": null,
            "visibility": null,
            "align_self": null,
            "height": null,
            "min_height": null,
            "padding": null,
            "grid_auto_rows": null,
            "grid_gap": null,
            "max_width": null,
            "order": null,
            "_view_module_version": "1.2.0",
            "grid_template_areas": null,
            "object_position": null,
            "object_fit": null,
            "grid_auto_columns": null,
            "margin": null,
            "display": null,
            "left": null
          }
        },
        "061c6dc7ee28459d9fe35549b896bdf9": {
          "model_module": "@jupyter-widgets/base",
          "model_name": "LayoutModel",
          "state": {
            "_view_name": "LayoutView",
            "grid_template_rows": null,
            "right": null,
            "justify_content": null,
            "_view_module": "@jupyter-widgets/base",
            "overflow": null,
            "_model_module_version": "1.2.0",
            "_view_count": null,
            "flex_flow": null,
            "width": null,
            "min_width": null,
            "border": null,
            "align_items": null,
            "bottom": null,
            "_model_module": "@jupyter-widgets/base",
            "top": null,
            "grid_column": null,
            "overflow_y": null,
            "overflow_x": null,
            "grid_auto_flow": null,
            "grid_area": null,
            "grid_template_columns": null,
            "flex": null,
            "_model_name": "LayoutModel",
            "justify_items": null,
            "grid_row": null,
            "max_height": null,
            "align_content": null,
            "visibility": null,
            "align_self": null,
            "height": null,
            "min_height": null,
            "padding": null,
            "grid_auto_rows": null,
            "grid_gap": null,
            "max_width": null,
            "order": null,
            "_view_module_version": "1.2.0",
            "grid_template_areas": null,
            "object_position": null,
            "object_fit": null,
            "grid_auto_columns": null,
            "margin": null,
            "display": null,
            "left": null
          }
        },
        "53fa3464cfe24853a4afb67839ab26e0": {
          "model_module": "@jupyter-widgets/base",
          "model_name": "LayoutModel",
          "state": {
            "_view_name": "LayoutView",
            "grid_template_rows": null,
            "right": null,
            "justify_content": null,
            "_view_module": "@jupyter-widgets/base",
            "overflow": null,
            "_model_module_version": "1.2.0",
            "_view_count": null,
            "flex_flow": null,
            "width": null,
            "min_width": null,
            "border": null,
            "align_items": null,
            "bottom": null,
            "_model_module": "@jupyter-widgets/base",
            "top": null,
            "grid_column": null,
            "overflow_y": null,
            "overflow_x": null,
            "grid_auto_flow": null,
            "grid_area": null,
            "grid_template_columns": null,
            "flex": null,
            "_model_name": "LayoutModel",
            "justify_items": null,
            "grid_row": null,
            "max_height": null,
            "align_content": null,
            "visibility": null,
            "align_self": null,
            "height": null,
            "min_height": null,
            "padding": null,
            "grid_auto_rows": null,
            "grid_gap": null,
            "max_width": null,
            "order": null,
            "_view_module_version": "1.2.0",
            "grid_template_areas": null,
            "object_position": null,
            "object_fit": null,
            "grid_auto_columns": null,
            "margin": null,
            "display": null,
            "left": null
          }
        }
      }
    }
  },
  "cells": [
    {
      "cell_type": "markdown",
      "metadata": {
        "id": "view-in-github",
        "colab_type": "text"
      },
      "source": [
        "<a href=\"https://colab.research.google.com/github/robfalck/dymos_tutorial/blob/main/02_dymos_simple_solver_boundary_value_problem.ipynb\" target=\"_parent\"><img src=\"https://colab.research.google.com/assets/colab-badge.svg\" alt=\"Open In Colab\"/></a>"
      ]
    },
    {
      "cell_type": "markdown",
      "metadata": {
        "id": "BCtX7Xl9_OO_"
      },
      "source": [
        "# Dymos: Posing the cannonball boundary value problem as a residuals problem.\n",
        "\n",
        "Sometimes the need to invoke an optimizer can be a hinderance.\n",
        "In this simple cannonball example, we showed that the problem is not truly an optimization problem.\n",
        "The number of equality constraints is equal to the number of design variables, so we should be able to solve the problem with a nonlinear solver like a Newton solver.\n",
        "\n",
        "We will accomplish this by making the duration of the phase a solver-driven variable, and its associated residual will be the final altitude of the cannonball.\n"
      ]
    },
    {
      "cell_type": "code",
      "metadata": {
        "colab": {
          "base_uri": "https://localhost:8080/"
        },
        "id": "qIINWcMI_bEn",
        "outputId": "cbd6cc8b-f8f1-4e11-d7dd-5f9b75c5acef"
      },
      "source": [
        "!pip install dymos"
      ],
      "execution_count": 1,
      "outputs": [
        {
          "output_type": "stream",
          "text": [
            "Requirement already satisfied: dymos in /usr/local/lib/python3.6/dist-packages (0.17.0)\n",
            "Requirement already satisfied: scipy>=1.0.0 in /usr/local/lib/python3.6/dist-packages (from dymos) (1.4.1)\n",
            "Requirement already satisfied: numpy>=1.14.1 in /usr/local/lib/python3.6/dist-packages (from dymos) (1.18.5)\n",
            "Requirement already satisfied: openmdao>=3.3.0 in /usr/local/lib/python3.6/dist-packages (from dymos) (3.5.0)\n",
            "Requirement already satisfied: pyparsing in /usr/local/lib/python3.6/dist-packages (from openmdao>=3.3.0->dymos) (2.4.7)\n",
            "Requirement already satisfied: pyDOE2 in /usr/local/lib/python3.6/dist-packages (from openmdao>=3.3.0->dymos) (1.3.0)\n",
            "Requirement already satisfied: networkx>=2.0 in /usr/local/lib/python3.6/dist-packages (from openmdao>=3.3.0->dymos) (2.5)\n",
            "Requirement already satisfied: requests in /usr/local/lib/python3.6/dist-packages (from openmdao>=3.3.0->dymos) (2.23.0)\n",
            "Requirement already satisfied: decorator>=4.3.0 in /usr/local/lib/python3.6/dist-packages (from networkx>=2.0->openmdao>=3.3.0->dymos) (4.4.2)\n",
            "Requirement already satisfied: certifi>=2017.4.17 in /usr/local/lib/python3.6/dist-packages (from requests->openmdao>=3.3.0->dymos) (2020.12.5)\n",
            "Requirement already satisfied: chardet<4,>=3.0.2 in /usr/local/lib/python3.6/dist-packages (from requests->openmdao>=3.3.0->dymos) (3.0.4)\n",
            "Requirement already satisfied: urllib3!=1.25.0,!=1.25.1,<1.26,>=1.21.1 in /usr/local/lib/python3.6/dist-packages (from requests->openmdao>=3.3.0->dymos) (1.24.3)\n",
            "Requirement already satisfied: idna<3,>=2.5 in /usr/local/lib/python3.6/dist-packages (from requests->openmdao>=3.3.0->dymos) (2.10)\n"
          ],
          "name": "stdout"
        }
      ]
    },
    {
      "cell_type": "code",
      "metadata": {
        "colab": {
          "base_uri": "https://localhost:8080/"
        },
        "id": "wDzs3J0f_eEP",
        "outputId": "ac4e72e3-efb3-45db-c2b7-f7a74826c760"
      },
      "source": [
        "import numpy as np\n",
        "import openmdao.api as om\n",
        "import dymos as dm"
      ],
      "execution_count": 2,
      "outputs": [
        {
          "output_type": "stream",
          "text": [
            "Unable to import mpi4py. Parallel processing unavailable.\n",
            "Unable to import petsc4py. Parallel processing unavailable.\n",
            "Unable to import petsc4py. Parallel processing unavailable.\n"
          ],
          "name": "stdout"
        }
      ]
    },
    {
      "cell_type": "code",
      "metadata": {
        "id": "iVfM_upVCUhQ"
      },
      "source": [
        "class ProjectileODE(om.ExplicitComponent):\n",
        "\n",
        "  def initialize(self):\n",
        "    self.options.declare('num_nodes', types=int,\n",
        "                         desc='the number of points at which this ODE is simultaneously evaluated')\n",
        "\n",
        "  def setup(self):\n",
        "    nn = self.options['num_nodes']\n",
        "    self.add_input('vx', shape=(nn,), units='m/s')\n",
        "    self.add_input('vy', shape=(nn,), units='m/s')\n",
        "\n",
        "    self.add_output('x_dot', shape=(nn,), units='m/s',\n",
        "                    tags=['state_rate_source:x', 'state_units:m'])\n",
        "\n",
        "    self.add_output('y_dot', shape=(nn,), units='m/s',\n",
        "                    tags=['state_rate_source:y', 'state_units:m'])\n",
        "\n",
        "    self.add_output('vx_dot', shape=(nn,), units='m/s**2',\n",
        "                    tags=['state_rate_source:vx', 'state_units:m/s'])\n",
        "\n",
        "    self.add_output('vy_dot', shape=(nn,), units='m/s**2',\n",
        "                    tags=['state_rate_source:vy', 'state_units:m/s'])\n",
        "    \n",
        "    self.declare_partials(of='*', wrt='*', method='fd')\n",
        "    \n",
        "  def compute(self, inputs, outputs):\n",
        "    outputs['x_dot'][:] = inputs['vx']\n",
        "    outputs['y_dot'][:] = inputs['vy']\n",
        "    outputs['vx_dot'][:] = 0.0\n",
        "    outputs['vy_dot'][:] = -9.81\n",
        "    \n"
      ],
      "execution_count": 3,
      "outputs": []
    },
    {
      "cell_type": "markdown",
      "metadata": {
        "id": "UNoNUon4ctip"
      },
      "source": [
        "# Using a solver to converge the defects\n",
        "\n",
        "Since we'll be running this example without a driver, we need to treat the defect _constraints_ as _residuals_ be be handled by a nonlinear solver.\n",
        "\n",
        "In Dymos, this is done using the option `solve_segments`. \n",
        "This option can be applied to each state in the `set_state_options` method, or to the transcription.  When provided to the transcription, it becomes the default for every state within the phase.\n",
        "\n",
        "To use `solve_segments`, it takes values of either `'forward'` or `'backward'`.  When we use `solve_segments`, to ensure that the number of variables equals the number of residuals, we have to `fix` the value of the state at one end of the phase.\n",
        "\n",
        "When we use `solve_segments='forward'`, the solver is not allowed to vary the initial value in the phase, but is allowed to vary the rest.  In effect, this results in a forward propagation of the state.\n",
        "\n",
        "Similarly, when we use `solve_segments='backward'`, the final value of the state in the phase is treated as fixed by the solver.\n",
        "\n",
        "* The state options `fix_initial` and `fix_final` apply to whether the\n",
        "  optimizer is allowed to change those values.\n",
        "\n",
        "* The value of `solve_segments` determine which values are allowed to be varied by the solver.\n",
        "\n",
        "* When using a shooting method, the optimizer may vary the initial state value, for instance, and then the solver can propagate forward from the using `solve_segments='forward'`, for instance.\n",
        "\n",
        "* Attempting to use an invalid combination, such as `fix_final=True` and `solve_segments='forward'` will result in an error.\n",
        "\n",
        "\n"
      ]
    },
    {
      "cell_type": "code",
      "metadata": {
        "id": "S9gRS_J4OhUh"
      },
      "source": [
        "prob = om.Problem()\n",
        "\n",
        "traj = prob.model.add_subsystem('traj', dm.Trajectory())\n",
        "\n",
        "phase = traj.add_phase('phase',\n",
        "                       dm.Phase(ode_class=ProjectileODE,\n",
        "                                transcription=dm.Radau(num_segments=1, order=3, solve_segments=True)))\n",
        "\n",
        "phase.set_time_options(fix_initial=True, duration_bounds=(1, 1000), units='s')\n",
        "\n",
        "phase.set_state_options('x', fix_initial=True)\n",
        "phase.set_state_options('y', fix_initial=True)\n",
        "phase.set_state_options('vx', fix_initial=True)\n",
        "phase.set_state_options('vy', fix_initial=True)"
      ],
      "execution_count": 4,
      "outputs": []
    },
    {
      "cell_type": "markdown",
      "metadata": {
        "id": "oY54TCQUYmu4"
      },
      "source": [
        "# Setup the problem"
      ]
    },
    {
      "cell_type": "code",
      "metadata": {
        "colab": {
          "base_uri": "https://localhost:8080/"
        },
        "id": "EwdLi24uYk_9",
        "outputId": "691c9334-a46d-4d67-e97d-c36fb4ee44ad"
      },
      "source": [
        "prob.setup()"
      ],
      "execution_count": 5,
      "outputs": [
        {
          "output_type": "execute_result",
          "data": {
            "text/plain": [
              "<openmdao.core.problem.Problem at 0x7efee0f1cba8>"
            ]
          },
          "metadata": {
            "tags": []
          },
          "execution_count": 5
        }
      ]
    },
    {
      "cell_type": "markdown",
      "metadata": {
        "id": "LROYjvOHZORk"
      },
      "source": [
        "# Provide initial guesses"
      ]
    },
    {
      "cell_type": "code",
      "metadata": {
        "id": "PLBRLcXaZJW6"
      },
      "source": [
        "prob.set_val('traj.phase.t_initial', 0.0, units='s')\n",
        "prob.set_val('traj.phase.t_duration', 15.0, units='s')\n",
        "\n",
        "prob.set_val('traj.phase.states:x', phase.interpolate(ys=[0, 100], nodes='state_input'), units='m')\n",
        "prob.set_val('traj.phase.states:y', phase.interpolate(ys=[0, 0], nodes='state_input'), units='m')\n",
        "prob.set_val('traj.phase.states:vx', phase.interpolate(ys=[100, 100], nodes='state_input'), units='m/s')\n",
        "prob.set_val('traj.phase.states:vy', phase.interpolate(ys=[100, -100], nodes='state_input'), units='m/s')"
      ],
      "execution_count": 6,
      "outputs": []
    },
    {
      "cell_type": "code",
      "metadata": {
        "id": "XN7KJ38xh-AS"
      },
      "source": [
        ""
      ],
      "execution_count": 6,
      "outputs": []
    },
    {
      "cell_type": "markdown",
      "metadata": {
        "id": "5K4qtuY2bKL3"
      },
      "source": [
        "# Propagating the trajectory using solve_segments\n",
        "\n",
        "We can now simply run the model, using either the standard OpenMDAO `Problem.run_model` method, or by using `dymos.run_problem(run_driver=False)`"
      ]
    },
    {
      "cell_type": "code",
      "metadata": {
        "colab": {
          "base_uri": "https://localhost:8080/"
        },
        "id": "_VRoWFHba2XU",
        "outputId": "271f013f-f6d9-4f92-cdab-c7cbff9f7ca4"
      },
      "source": [
        "dm.run_problem(prob, run_driver=False, simulate=True, make_plots=True)"
      ],
      "execution_count": 7,
      "outputs": [
        {
          "output_type": "stream",
          "text": [
            "\n",
            "Simulating trajectory traj\n",
            "Done simulating trajectory traj\n"
          ],
          "name": "stdout"
        }
      ]
    },
    {
      "cell_type": "code",
      "metadata": {
        "colab": {
          "base_uri": "https://localhost:8080/",
          "height": 1000,
          "referenced_widgets": [
            "e403c0ade48442d887a098e7609b18b9",
            "2dd20df374b54ace949fdc0db3909bca",
            "5f4f2ccc159745a99dabedf703f2bd57",
            "b63499f93978448cabbd39a2ea688739",
            "1fbd02b99ccd4165a5b79bdf89b456b8",
            "b9d754ae2ff84b9a8eba84be5f675274",
            "e0178a6b4bc34654b1b09287b5a7f8da",
            "4718a0bc88304b8c98019ff55f735228",
            "3a0b0fb8146241b3bc052bb298912a5f",
            "59ce34013aa246729c8334863762c32d",
            "edd924d22ba944b2b658e8993643f859",
            "cc33f3f2e05c440f836dafccfd6d760b",
            "5872856d5e2243418656cfb4b3c82944",
            "dd10a54b758843fb90aa18af67209522",
            "26af3faf6aae45d19cf276e477bc8a82",
            "a82083051e4e433399fe5d75343a47bb",
            "5af7385a53ee42e6bc764461dc184126",
            "af40624362cd47c5aa6254fc9a1abbfd"
          ]
        },
        "id": "HADStGTVbUTb",
        "outputId": "0caf3a02-c14f-4175-e593-191d739a3761"
      },
      "source": [
        "# TODO: Make these more automatic (and use an interactive plot library like bokeh)\n",
        "\n",
        "from IPython.display import display\n",
        "from ipywidgets import widgets, GridBox\n",
        "\n",
        "items = [widgets.Image(value=open(f'plots/states_{state}.png', 'rb').read()) for state in ['x', 'y', 'vx', 'vy']] + \\\n",
        "[widgets.Image(value=open(f'plots/state_rates_{state}.png', 'rb').read()) for state in ['x', 'y', 'vx', 'vy']]\n",
        "widgets.GridBox(items, layout=widgets.Layout(grid_template_columns=\"repeat(2, 500px)\"))\n"
      ],
      "execution_count": 8,
      "outputs": [
        {
          "output_type": "display_data",
          "data": {
            "application/vnd.jupyter.widget-view+json": {
              "model_id": "e403c0ade48442d887a098e7609b18b9",
              "version_minor": 0,
              "version_major": 2
            },
            "text/plain": [
              "GridBox(children=(Image(value=b'\\x89PNG\\r\\n\\x1a\\n\\x00\\x00\\x00\\rIHDR\\x00\\x00\\x01\\xb0\\x00\\x00\\x01 \\x08\\x06\\x00\\x…"
            ]
          },
          "metadata": {
            "tags": []
          }
        }
      ]
    },
    {
      "cell_type": "markdown",
      "metadata": {
        "id": "PtZ--VPonJbN"
      },
      "source": [
        "The result is a propagated discrete trajectory without the use of an optimizer.  But the solver is not yet controlling the duration of the phase, so this is still the equivalent of the initial value problem.  In the next section, we'll set up the machinery that allows that to happen.\n",
        "\n",
        "# So what's the difference between `simulate` and `solve_segments`?\n",
        "\n",
        "When we invoke `solve_segments`, the propagation is achieved by the iteration of an OpenMDAO system.  As a result, we can take the derivatives _across_ that propagation, and use this propagation in optimization problems.\n",
        "\n",
        "Using `simulate` does not currently provide the derivatives of the final state with respect to the initial, so that method is useful for generating guesses or verifying results, but not for use within an actual optimization."
      ]
    },
    {
      "cell_type": "markdown",
      "metadata": {
        "id": "QR1G2rZGm8cY"
      },
      "source": [
        "# Letting the time duration be controlled by a solver.\n",
        "\n",
        "In order to allow the time duration to be controlled by a solver, we're going to make a few changes to our problem structure.\n",
        "\n",
        "First, we're going to add an OpenMDAO `BalanceComp` to our system, after the trajectory.  This BalanceComp will provide a value for `t_duration`.\n",
        "\n",
        "We will also change the time options for the phase such that `t_duration` is allowed to be an input (using option `input_duration=True`).\n",
        "\n",
        "The BalanceComp works by varying its implicit output variable (`t_duration`) until the residual is zero.\n",
        "The residual is calculated as the difference between an associated 'left hand side' (lhs) and 'right hand side' (rhs).\n",
        "In this case, the lhs will be the output (since its value is changed by changing `t_duration`, and we will leave the rhs unconnected (it will default to zero)."
      ]
    },
    {
      "cell_type": "code",
      "metadata": {
        "id": "b2dbYBF6Wtar"
      },
      "source": [
        "prob = om.Problem()\n",
        "\n",
        "traj = prob.model.add_subsystem('traj', dm.Trajectory())\n",
        "\n",
        "bal = prob.model.add_subsystem('bal',\n",
        "                               om.BalanceComp('t_duration', units='s', eq_units='m'))\n",
        "\n",
        "phase = traj.add_phase('phase',\n",
        "                       dm.Phase(ode_class=ProjectileODE,\n",
        "                                transcription=dm.Radau(num_segments=1, order=3, solve_segments=True)))\n",
        "\n",
        "phase.set_time_options(fix_initial=True, input_duration=True, units='s')\n",
        "\n",
        "phase.set_state_options('x', fix_initial=True)\n",
        "phase.set_state_options('y', fix_initial=True)\n",
        "phase.set_state_options('vx', fix_initial=True)\n",
        "phase.set_state_options('vy', fix_initial=True)\n",
        "\n",
        "prob.model.connect('bal.t_duration', 'traj.phase.t_duration')\n",
        "prob.model.connect('traj.phase.timeseries.states:y', 'bal.lhs:t_duration', src_indices=[-1])"
      ],
      "execution_count": 9,
      "outputs": []
    },
    {
      "cell_type": "markdown",
      "metadata": {
        "id": "REYE0ZpJpLjI"
      },
      "source": [
        "# Adding a nonlinear solver and a linear solver\n",
        "\n",
        "When we use `solve_segments`, Dymos automatically adds linear and nonlinear solvers to the Phase to converge the dynamics.\n",
        "\n",
        "In this case, we're also introducing implicit behavior at the top level of our model (the implicit BalanceComp is a sibling component of the Trajectory).\n",
        "\n",
        "So now we'll add the necessary solvers to the top of the system.\n",
        "\n",
        "The linear solver here is needed in order to assemble the derivatives across our iterative system."
      ]
    },
    {
      "cell_type": "code",
      "metadata": {
        "id": "sj65CV0upKk6"
      },
      "source": [
        "prob.model.linear_solver = om.DirectSolver()\n",
        "prob.model.nonlinear_solver = om.NewtonSolver(solve_subsystems=True)"
      ],
      "execution_count": 10,
      "outputs": []
    },
    {
      "cell_type": "markdown",
      "metadata": {
        "id": "g2UIen0fp5kN"
      },
      "source": [
        "# Setup the problem"
      ]
    },
    {
      "cell_type": "code",
      "metadata": {
        "colab": {
          "base_uri": "https://localhost:8080/"
        },
        "id": "JeGFrXztp7Gw",
        "outputId": "ce10740b-69ee-4f09-f6a6-e42884f9730f"
      },
      "source": [
        "prob.setup()"
      ],
      "execution_count": 11,
      "outputs": [
        {
          "output_type": "execute_result",
          "data": {
            "text/plain": [
              "<openmdao.core.problem.Problem at 0x7efee0d18e10>"
            ]
          },
          "metadata": {
            "tags": []
          },
          "execution_count": 11
        }
      ]
    },
    {
      "cell_type": "markdown",
      "metadata": {
        "id": "VjK2JrWerTAF"
      },
      "source": [
        "# Provide initial guesses"
      ]
    },
    {
      "cell_type": "code",
      "metadata": {
        "id": "PWWlfOGWrUt1"
      },
      "source": [
        "prob.set_val('traj.phase.t_initial', 0.0, units='s')\n",
        "prob.set_val('traj.phase.t_duration', 15.0, units='s')\n",
        "\n",
        "prob.set_val('traj.phase.states:x', phase.interpolate(ys=[0, 100], nodes='state_input'), units='m')\n",
        "prob.set_val('traj.phase.states:y', phase.interpolate(ys=[0, 0], nodes='state_input'), units='m')\n",
        "prob.set_val('traj.phase.states:vx', phase.interpolate(ys=[100, 100], nodes='state_input'), units='m/s')\n",
        "prob.set_val('traj.phase.states:vy', phase.interpolate(ys=[100, -100], nodes='state_input'), units='m/s')"
      ],
      "execution_count": 12,
      "outputs": []
    },
    {
      "cell_type": "markdown",
      "metadata": {
        "id": "nvyPxEUZqogC"
      },
      "source": [
        "# Run the problem\n",
        "\n",
        "Here we could either use `om.run_model()` or `dm.run_problem(prob, run_driver=False)`"
      ]
    },
    {
      "cell_type": "code",
      "metadata": {
        "colab": {
          "base_uri": "https://localhost:8080/"
        },
        "id": "ZuvJmyhnqm3v",
        "outputId": "8f65ef19-302d-4ce8-b087-37f32e914153"
      },
      "source": [
        "dm.run_problem(prob, run_driver=False, simulate=True, make_plots=True)"
      ],
      "execution_count": 13,
      "outputs": [
        {
          "output_type": "stream",
          "text": [
            "NL: Newton Converged in 5 iterations\n",
            "\n",
            "Simulating trajectory traj\n",
            "Done simulating trajectory traj\n"
          ],
          "name": "stdout"
        }
      ]
    },
    {
      "cell_type": "code",
      "metadata": {
        "colab": {
          "base_uri": "https://localhost:8080/",
          "height": 1000,
          "referenced_widgets": [
            "5f17bac8c2e74c4f8d951873a634475e",
            "88f4baf3031840b59feab57bbb03c970",
            "34dbda8952884438a090e8ec4194ebb0",
            "d9120d3723c4420a9988a9f2c292c68a",
            "a4cf2431ead049d88798126af67602ad",
            "12f6a7bc82c64a108fd52ae45dce45df",
            "7d46f6c936814a76b6cfaded604a8567",
            "6201da6bbcfb4307b17b536deb13f648",
            "ae602801898c4478bc4331755e928ccc",
            "5aaa78a3c473426c9c8c04f67d7102a7",
            "f3154a8e029c4484b50fdda3ada76566",
            "06a92a44330c420b99491af03fc39c26",
            "ddba3565fbdc4b6ab9705eb963c795f8",
            "493a7e920f8d47eda4a2c5b8430b41b3",
            "a32cdc0e779b4fcead1496f4e832db0d",
            "39a0d8167d5b49afb7a154d1c06597fe",
            "061c6dc7ee28459d9fe35549b896bdf9",
            "53fa3464cfe24853a4afb67839ab26e0"
          ]
        },
        "id": "mKdg8Kh4q05c",
        "outputId": "8261da7d-5fd1-4327-d014-49ea27d93803"
      },
      "source": [
        "# TODO: Make these more automatic (and use an interactive plot library like bokeh)\n",
        "\n",
        "from IPython.display import display\n",
        "from ipywidgets import widgets, GridBox\n",
        "\n",
        "items = [widgets.Image(value=open(f'plots/states_{state}.png', 'rb').read()) for state in ['x', 'y', 'vx', 'vy']] + \\\n",
        "[widgets.Image(value=open(f'plots/state_rates_{state}.png', 'rb').read()) for state in ['x', 'y', 'vx', 'vy']]\n",
        "widgets.GridBox(items, layout=widgets.Layout(grid_template_columns=\"repeat(2, 500px)\"))"
      ],
      "execution_count": 14,
      "outputs": [
        {
          "output_type": "display_data",
          "data": {
            "application/vnd.jupyter.widget-view+json": {
              "model_id": "5f17bac8c2e74c4f8d951873a634475e",
              "version_minor": 0,
              "version_major": 2
            },
            "text/plain": [
              "GridBox(children=(Image(value=b'\\x89PNG\\r\\n\\x1a\\n\\x00\\x00\\x00\\rIHDR\\x00\\x00\\x01\\xb0\\x00\\x00\\x01 \\x08\\x06\\x00\\x…"
            ]
          },
          "metadata": {
            "tags": []
          }
        }
      ]
    },
    {
      "cell_type": "code",
      "metadata": {
        "id": "fjgWCi6erIbK"
      },
      "source": [
        ""
      ],
      "execution_count": 14,
      "outputs": []
    },
    {
      "cell_type": "markdown",
      "metadata": {
        "id": "oZMgj3udrc-r"
      },
      "source": [
        "# Summary\n",
        "\n",
        "Once again we've solved the boundary value problem.\n",
        "This time, no optimizer was used to converge the state dynamics."
      ]
    },
    {
      "cell_type": "code",
      "metadata": {
        "id": "9ctBpESbrl3x"
      },
      "source": [
        ""
      ],
      "execution_count": null,
      "outputs": []
    }
  ]
}