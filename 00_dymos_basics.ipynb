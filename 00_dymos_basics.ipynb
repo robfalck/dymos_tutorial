{
  "nbformat": 4,
  "nbformat_minor": 0,
  "metadata": {
    "colab": {
      "name": "00_dymos_basics.ipynb",
      "provenance": [],
      "collapsed_sections": [],
      "toc_visible": true,
      "authorship_tag": "ABX9TyPz4LJcgNIr472eKlVe7Usv",
      "include_colab_link": true
    },
    "kernelspec": {
      "name": "python3",
      "display_name": "Python 3"
    },
    "widgets": {
      "application/vnd.jupyter.widget-state+json": {
        "4fd60ccc64dd4bc3aa17a82d8e16c9c8": {
          "model_module": "@jupyter-widgets/controls",
          "model_name": "GridBoxModel",
          "state": {
            "_view_name": "GridBoxView",
            "_dom_classes": [],
            "_model_name": "GridBoxModel",
            "_view_module": "@jupyter-widgets/controls",
            "_model_module_version": "1.5.0",
            "_view_count": null,
            "_view_module_version": "1.5.0",
            "box_style": "",
            "layout": "IPY_MODEL_6a3b5bd37f8f414fb5c4206b2e173d10",
            "_model_module": "@jupyter-widgets/controls",
            "children": [
              "IPY_MODEL_371cc74c0bc344779a362f003108b3e6",
              "IPY_MODEL_deb77b99dd854699b398ce2cf924b28e",
              "IPY_MODEL_33cd576dfd5140babcf73a8b3081449e",
              "IPY_MODEL_4fd37cefc7ca4c7184c17c23c2c72f2e",
              "IPY_MODEL_098972b35f8e4ae39ce9caf57b00e6b0",
              "IPY_MODEL_5b61fbffad574033ad246fe60951de32",
              "IPY_MODEL_2cfaeb98ffed475180d39f24e925e810",
              "IPY_MODEL_df0fe757e6c745b9ac4c2f2801401a1e"
            ]
          }
        },
        "6a3b5bd37f8f414fb5c4206b2e173d10": {
          "model_module": "@jupyter-widgets/base",
          "model_name": "LayoutModel",
          "state": {
            "_view_name": "LayoutView",
            "grid_template_rows": null,
            "right": null,
            "justify_content": null,
            "_view_module": "@jupyter-widgets/base",
            "overflow": null,
            "_model_module_version": "1.2.0",
            "_view_count": null,
            "flex_flow": null,
            "width": null,
            "min_width": null,
            "border": null,
            "align_items": null,
            "bottom": null,
            "_model_module": "@jupyter-widgets/base",
            "top": null,
            "grid_column": null,
            "overflow_y": null,
            "overflow_x": null,
            "grid_auto_flow": null,
            "grid_area": null,
            "grid_template_columns": "repeat(2, 500px)",
            "flex": null,
            "_model_name": "LayoutModel",
            "justify_items": null,
            "grid_row": null,
            "max_height": null,
            "align_content": null,
            "visibility": null,
            "align_self": null,
            "height": null,
            "min_height": null,
            "padding": null,
            "grid_auto_rows": null,
            "grid_gap": null,
            "max_width": null,
            "order": null,
            "_view_module_version": "1.2.0",
            "grid_template_areas": null,
            "object_position": null,
            "object_fit": null,
            "grid_auto_columns": null,
            "margin": null,
            "display": null,
            "left": null
          }
        },
        "371cc74c0bc344779a362f003108b3e6": {
          "model_module": "@jupyter-widgets/controls",
          "model_name": "ImageModel",
          "state": {
            "_view_name": "ImageView",
            "_dom_classes": [],
            "_model_name": "ImageModel",
            "format": "png",
            "_view_module": "@jupyter-widgets/controls",
            "_model_module_version": "1.5.0",
            "_view_count": null,
            "width": "",
            "_view_module_version": "1.5.0",
            "layout": "IPY_MODEL_7d544a1ac15f41a59570c9c7af008111",
            "height": "",
            "_model_module": "@jupyter-widgets/controls"
          }
        },
        "deb77b99dd854699b398ce2cf924b28e": {
          "model_module": "@jupyter-widgets/controls",
          "model_name": "ImageModel",
          "state": {
            "_view_name": "ImageView",
            "_dom_classes": [],
            "_model_name": "ImageModel",
            "format": "png",
            "_view_module": "@jupyter-widgets/controls",
            "_model_module_version": "1.5.0",
            "_view_count": null,
            "width": "",
            "_view_module_version": "1.5.0",
            "layout": "IPY_MODEL_a33473b4b8a74186bef6a47d03bca462",
            "height": "",
            "_model_module": "@jupyter-widgets/controls"
          }
        },
        "33cd576dfd5140babcf73a8b3081449e": {
          "model_module": "@jupyter-widgets/controls",
          "model_name": "ImageModel",
          "state": {
            "_view_name": "ImageView",
            "_dom_classes": [],
            "_model_name": "ImageModel",
            "format": "png",
            "_view_module": "@jupyter-widgets/controls",
            "_model_module_version": "1.5.0",
            "_view_count": null,
            "width": "",
            "_view_module_version": "1.5.0",
            "layout": "IPY_MODEL_d33313b57fb848589f19c351a06debca",
            "height": "",
            "_model_module": "@jupyter-widgets/controls"
          }
        },
        "4fd37cefc7ca4c7184c17c23c2c72f2e": {
          "model_module": "@jupyter-widgets/controls",
          "model_name": "ImageModel",
          "state": {
            "_view_name": "ImageView",
            "_dom_classes": [],
            "_model_name": "ImageModel",
            "format": "png",
            "_view_module": "@jupyter-widgets/controls",
            "_model_module_version": "1.5.0",
            "_view_count": null,
            "width": "",
            "_view_module_version": "1.5.0",
            "layout": "IPY_MODEL_ec0e6fd6f3754d18a183433553a04a90",
            "height": "",
            "_model_module": "@jupyter-widgets/controls"
          }
        },
        "098972b35f8e4ae39ce9caf57b00e6b0": {
          "model_module": "@jupyter-widgets/controls",
          "model_name": "ImageModel",
          "state": {
            "_view_name": "ImageView",
            "_dom_classes": [],
            "_model_name": "ImageModel",
            "format": "png",
            "_view_module": "@jupyter-widgets/controls",
            "_model_module_version": "1.5.0",
            "_view_count": null,
            "width": "",
            "_view_module_version": "1.5.0",
            "layout": "IPY_MODEL_1e69ea94b28246a39787db339bd84c99",
            "height": "",
            "_model_module": "@jupyter-widgets/controls"
          }
        },
        "5b61fbffad574033ad246fe60951de32": {
          "model_module": "@jupyter-widgets/controls",
          "model_name": "ImageModel",
          "state": {
            "_view_name": "ImageView",
            "_dom_classes": [],
            "_model_name": "ImageModel",
            "format": "png",
            "_view_module": "@jupyter-widgets/controls",
            "_model_module_version": "1.5.0",
            "_view_count": null,
            "width": "",
            "_view_module_version": "1.5.0",
            "layout": "IPY_MODEL_d81eacfad2ed42349cc0c15c38f13152",
            "height": "",
            "_model_module": "@jupyter-widgets/controls"
          }
        },
        "2cfaeb98ffed475180d39f24e925e810": {
          "model_module": "@jupyter-widgets/controls",
          "model_name": "ImageModel",
          "state": {
            "_view_name": "ImageView",
            "_dom_classes": [],
            "_model_name": "ImageModel",
            "format": "png",
            "_view_module": "@jupyter-widgets/controls",
            "_model_module_version": "1.5.0",
            "_view_count": null,
            "width": "",
            "_view_module_version": "1.5.0",
            "layout": "IPY_MODEL_8d1ed42b04a748cc83f3d51ee20e02b3",
            "height": "",
            "_model_module": "@jupyter-widgets/controls"
          }
        },
        "df0fe757e6c745b9ac4c2f2801401a1e": {
          "model_module": "@jupyter-widgets/controls",
          "model_name": "ImageModel",
          "state": {
            "_view_name": "ImageView",
            "_dom_classes": [],
            "_model_name": "ImageModel",
            "format": "png",
            "_view_module": "@jupyter-widgets/controls",
            "_model_module_version": "1.5.0",
            "_view_count": null,
            "width": "",
            "_view_module_version": "1.5.0",
            "layout": "IPY_MODEL_3542197b3ac441118be1f8415e935862",
            "height": "",
            "_model_module": "@jupyter-widgets/controls"
          }
        },
        "7d544a1ac15f41a59570c9c7af008111": {
          "model_module": "@jupyter-widgets/base",
          "model_name": "LayoutModel",
          "state": {
            "_view_name": "LayoutView",
            "grid_template_rows": null,
            "right": null,
            "justify_content": null,
            "_view_module": "@jupyter-widgets/base",
            "overflow": null,
            "_model_module_version": "1.2.0",
            "_view_count": null,
            "flex_flow": null,
            "width": null,
            "min_width": null,
            "border": null,
            "align_items": null,
            "bottom": null,
            "_model_module": "@jupyter-widgets/base",
            "top": null,
            "grid_column": null,
            "overflow_y": null,
            "overflow_x": null,
            "grid_auto_flow": null,
            "grid_area": null,
            "grid_template_columns": null,
            "flex": null,
            "_model_name": "LayoutModel",
            "justify_items": null,
            "grid_row": null,
            "max_height": null,
            "align_content": null,
            "visibility": null,
            "align_self": null,
            "height": null,
            "min_height": null,
            "padding": null,
            "grid_auto_rows": null,
            "grid_gap": null,
            "max_width": null,
            "order": null,
            "_view_module_version": "1.2.0",
            "grid_template_areas": null,
            "object_position": null,
            "object_fit": null,
            "grid_auto_columns": null,
            "margin": null,
            "display": null,
            "left": null
          }
        },
        "a33473b4b8a74186bef6a47d03bca462": {
          "model_module": "@jupyter-widgets/base",
          "model_name": "LayoutModel",
          "state": {
            "_view_name": "LayoutView",
            "grid_template_rows": null,
            "right": null,
            "justify_content": null,
            "_view_module": "@jupyter-widgets/base",
            "overflow": null,
            "_model_module_version": "1.2.0",
            "_view_count": null,
            "flex_flow": null,
            "width": null,
            "min_width": null,
            "border": null,
            "align_items": null,
            "bottom": null,
            "_model_module": "@jupyter-widgets/base",
            "top": null,
            "grid_column": null,
            "overflow_y": null,
            "overflow_x": null,
            "grid_auto_flow": null,
            "grid_area": null,
            "grid_template_columns": null,
            "flex": null,
            "_model_name": "LayoutModel",
            "justify_items": null,
            "grid_row": null,
            "max_height": null,
            "align_content": null,
            "visibility": null,
            "align_self": null,
            "height": null,
            "min_height": null,
            "padding": null,
            "grid_auto_rows": null,
            "grid_gap": null,
            "max_width": null,
            "order": null,
            "_view_module_version": "1.2.0",
            "grid_template_areas": null,
            "object_position": null,
            "object_fit": null,
            "grid_auto_columns": null,
            "margin": null,
            "display": null,
            "left": null
          }
        },
        "d33313b57fb848589f19c351a06debca": {
          "model_module": "@jupyter-widgets/base",
          "model_name": "LayoutModel",
          "state": {
            "_view_name": "LayoutView",
            "grid_template_rows": null,
            "right": null,
            "justify_content": null,
            "_view_module": "@jupyter-widgets/base",
            "overflow": null,
            "_model_module_version": "1.2.0",
            "_view_count": null,
            "flex_flow": null,
            "width": null,
            "min_width": null,
            "border": null,
            "align_items": null,
            "bottom": null,
            "_model_module": "@jupyter-widgets/base",
            "top": null,
            "grid_column": null,
            "overflow_y": null,
            "overflow_x": null,
            "grid_auto_flow": null,
            "grid_area": null,
            "grid_template_columns": null,
            "flex": null,
            "_model_name": "LayoutModel",
            "justify_items": null,
            "grid_row": null,
            "max_height": null,
            "align_content": null,
            "visibility": null,
            "align_self": null,
            "height": null,
            "min_height": null,
            "padding": null,
            "grid_auto_rows": null,
            "grid_gap": null,
            "max_width": null,
            "order": null,
            "_view_module_version": "1.2.0",
            "grid_template_areas": null,
            "object_position": null,
            "object_fit": null,
            "grid_auto_columns": null,
            "margin": null,
            "display": null,
            "left": null
          }
        },
        "ec0e6fd6f3754d18a183433553a04a90": {
          "model_module": "@jupyter-widgets/base",
          "model_name": "LayoutModel",
          "state": {
            "_view_name": "LayoutView",
            "grid_template_rows": null,
            "right": null,
            "justify_content": null,
            "_view_module": "@jupyter-widgets/base",
            "overflow": null,
            "_model_module_version": "1.2.0",
            "_view_count": null,
            "flex_flow": null,
            "width": null,
            "min_width": null,
            "border": null,
            "align_items": null,
            "bottom": null,
            "_model_module": "@jupyter-widgets/base",
            "top": null,
            "grid_column": null,
            "overflow_y": null,
            "overflow_x": null,
            "grid_auto_flow": null,
            "grid_area": null,
            "grid_template_columns": null,
            "flex": null,
            "_model_name": "LayoutModel",
            "justify_items": null,
            "grid_row": null,
            "max_height": null,
            "align_content": null,
            "visibility": null,
            "align_self": null,
            "height": null,
            "min_height": null,
            "padding": null,
            "grid_auto_rows": null,
            "grid_gap": null,
            "max_width": null,
            "order": null,
            "_view_module_version": "1.2.0",
            "grid_template_areas": null,
            "object_position": null,
            "object_fit": null,
            "grid_auto_columns": null,
            "margin": null,
            "display": null,
            "left": null
          }
        },
        "1e69ea94b28246a39787db339bd84c99": {
          "model_module": "@jupyter-widgets/base",
          "model_name": "LayoutModel",
          "state": {
            "_view_name": "LayoutView",
            "grid_template_rows": null,
            "right": null,
            "justify_content": null,
            "_view_module": "@jupyter-widgets/base",
            "overflow": null,
            "_model_module_version": "1.2.0",
            "_view_count": null,
            "flex_flow": null,
            "width": null,
            "min_width": null,
            "border": null,
            "align_items": null,
            "bottom": null,
            "_model_module": "@jupyter-widgets/base",
            "top": null,
            "grid_column": null,
            "overflow_y": null,
            "overflow_x": null,
            "grid_auto_flow": null,
            "grid_area": null,
            "grid_template_columns": null,
            "flex": null,
            "_model_name": "LayoutModel",
            "justify_items": null,
            "grid_row": null,
            "max_height": null,
            "align_content": null,
            "visibility": null,
            "align_self": null,
            "height": null,
            "min_height": null,
            "padding": null,
            "grid_auto_rows": null,
            "grid_gap": null,
            "max_width": null,
            "order": null,
            "_view_module_version": "1.2.0",
            "grid_template_areas": null,
            "object_position": null,
            "object_fit": null,
            "grid_auto_columns": null,
            "margin": null,
            "display": null,
            "left": null
          }
        },
        "d81eacfad2ed42349cc0c15c38f13152": {
          "model_module": "@jupyter-widgets/base",
          "model_name": "LayoutModel",
          "state": {
            "_view_name": "LayoutView",
            "grid_template_rows": null,
            "right": null,
            "justify_content": null,
            "_view_module": "@jupyter-widgets/base",
            "overflow": null,
            "_model_module_version": "1.2.0",
            "_view_count": null,
            "flex_flow": null,
            "width": null,
            "min_width": null,
            "border": null,
            "align_items": null,
            "bottom": null,
            "_model_module": "@jupyter-widgets/base",
            "top": null,
            "grid_column": null,
            "overflow_y": null,
            "overflow_x": null,
            "grid_auto_flow": null,
            "grid_area": null,
            "grid_template_columns": null,
            "flex": null,
            "_model_name": "LayoutModel",
            "justify_items": null,
            "grid_row": null,
            "max_height": null,
            "align_content": null,
            "visibility": null,
            "align_self": null,
            "height": null,
            "min_height": null,
            "padding": null,
            "grid_auto_rows": null,
            "grid_gap": null,
            "max_width": null,
            "order": null,
            "_view_module_version": "1.2.0",
            "grid_template_areas": null,
            "object_position": null,
            "object_fit": null,
            "grid_auto_columns": null,
            "margin": null,
            "display": null,
            "left": null
          }
        },
        "8d1ed42b04a748cc83f3d51ee20e02b3": {
          "model_module": "@jupyter-widgets/base",
          "model_name": "LayoutModel",
          "state": {
            "_view_name": "LayoutView",
            "grid_template_rows": null,
            "right": null,
            "justify_content": null,
            "_view_module": "@jupyter-widgets/base",
            "overflow": null,
            "_model_module_version": "1.2.0",
            "_view_count": null,
            "flex_flow": null,
            "width": null,
            "min_width": null,
            "border": null,
            "align_items": null,
            "bottom": null,
            "_model_module": "@jupyter-widgets/base",
            "top": null,
            "grid_column": null,
            "overflow_y": null,
            "overflow_x": null,
            "grid_auto_flow": null,
            "grid_area": null,
            "grid_template_columns": null,
            "flex": null,
            "_model_name": "LayoutModel",
            "justify_items": null,
            "grid_row": null,
            "max_height": null,
            "align_content": null,
            "visibility": null,
            "align_self": null,
            "height": null,
            "min_height": null,
            "padding": null,
            "grid_auto_rows": null,
            "grid_gap": null,
            "max_width": null,
            "order": null,
            "_view_module_version": "1.2.0",
            "grid_template_areas": null,
            "object_position": null,
            "object_fit": null,
            "grid_auto_columns": null,
            "margin": null,
            "display": null,
            "left": null
          }
        },
        "3542197b3ac441118be1f8415e935862": {
          "model_module": "@jupyter-widgets/base",
          "model_name": "LayoutModel",
          "state": {
            "_view_name": "LayoutView",
            "grid_template_rows": null,
            "right": null,
            "justify_content": null,
            "_view_module": "@jupyter-widgets/base",
            "overflow": null,
            "_model_module_version": "1.2.0",
            "_view_count": null,
            "flex_flow": null,
            "width": null,
            "min_width": null,
            "border": null,
            "align_items": null,
            "bottom": null,
            "_model_module": "@jupyter-widgets/base",
            "top": null,
            "grid_column": null,
            "overflow_y": null,
            "overflow_x": null,
            "grid_auto_flow": null,
            "grid_area": null,
            "grid_template_columns": null,
            "flex": null,
            "_model_name": "LayoutModel",
            "justify_items": null,
            "grid_row": null,
            "max_height": null,
            "align_content": null,
            "visibility": null,
            "align_self": null,
            "height": null,
            "min_height": null,
            "padding": null,
            "grid_auto_rows": null,
            "grid_gap": null,
            "max_width": null,
            "order": null,
            "_view_module_version": "1.2.0",
            "grid_template_areas": null,
            "object_position": null,
            "object_fit": null,
            "grid_auto_columns": null,
            "margin": null,
            "display": null,
            "left": null
          }
        }
      }
    }
  },
  "cells": [
    {
      "cell_type": "markdown",
      "metadata": {
        "id": "view-in-github",
        "colab_type": "text"
      },
      "source": [
        "<a href=\"https://colab.research.google.com/github/robfalck/dymos_tutorial/blob/main/00_dymos_basics.ipynb\" target=\"_parent\"><img src=\"https://colab.research.google.com/assets/colab-badge.svg\" alt=\"Open In Colab\"/></a>"
      ]
    },
    {
      "cell_type": "markdown",
      "metadata": {
        "id": "BCtX7Xl9_OO_"
      },
      "source": [
        "# Dymos: The Basics\n",
        "\n",
        "Dymos is a library for optimal control built on top of [OpenMDAO](https://github.com/OpenMDAO/OpenMDAO).\n",
        "There are several quality optimal control packages available out there, both commercial and free, so why use Dymos?\n",
        "\n",
        "1. OpenMDAO is a framework for multidisciplinary optimization.  It allows derivatives for gradient-based optimization to be calculated across complex models, even models which include iterative solvers.\n",
        "\n",
        "2. Dymos makes use of gradient-based optimization of nonlinear transcriptions of optimal control problems: primarily Gauss-Lobatto collocation and the Radau Pseudospectral Method.  Using these techniques relies on the calculation of accurate derivatives across the model:  _If the initial state or parameter affecting a system is changed by x, how much does the final state change?_\n",
        "\n",
        "# Installing Dymos "
      ]
    },
    {
      "cell_type": "code",
      "metadata": {
        "colab": {
          "base_uri": "https://localhost:8080/"
        },
        "id": "qIINWcMI_bEn",
        "outputId": "b98d3edd-a2e1-4b16-e089-6c47da1fda55"
      },
      "source": [
        "!pip install dymos"
      ],
      "execution_count": 1,
      "outputs": [
        {
          "output_type": "stream",
          "text": [
            "Requirement already satisfied: dymos in /usr/local/lib/python3.6/dist-packages (0.17.0)\n",
            "Requirement already satisfied: openmdao>=3.3.0 in /usr/local/lib/python3.6/dist-packages (from dymos) (3.5.0)\n",
            "Requirement already satisfied: numpy>=1.14.1 in /usr/local/lib/python3.6/dist-packages (from dymos) (1.18.5)\n",
            "Requirement already satisfied: scipy>=1.0.0 in /usr/local/lib/python3.6/dist-packages (from dymos) (1.4.1)\n",
            "Requirement already satisfied: pyparsing in /usr/local/lib/python3.6/dist-packages (from openmdao>=3.3.0->dymos) (2.4.7)\n",
            "Requirement already satisfied: requests in /usr/local/lib/python3.6/dist-packages (from openmdao>=3.3.0->dymos) (2.23.0)\n",
            "Requirement already satisfied: networkx>=2.0 in /usr/local/lib/python3.6/dist-packages (from openmdao>=3.3.0->dymos) (2.5)\n",
            "Requirement already satisfied: pyDOE2 in /usr/local/lib/python3.6/dist-packages (from openmdao>=3.3.0->dymos) (1.3.0)\n",
            "Requirement already satisfied: idna<3,>=2.5 in /usr/local/lib/python3.6/dist-packages (from requests->openmdao>=3.3.0->dymos) (2.10)\n",
            "Requirement already satisfied: chardet<4,>=3.0.2 in /usr/local/lib/python3.6/dist-packages (from requests->openmdao>=3.3.0->dymos) (3.0.4)\n",
            "Requirement already satisfied: certifi>=2017.4.17 in /usr/local/lib/python3.6/dist-packages (from requests->openmdao>=3.3.0->dymos) (2020.12.5)\n",
            "Requirement already satisfied: urllib3!=1.25.0,!=1.25.1,<1.26,>=1.21.1 in /usr/local/lib/python3.6/dist-packages (from requests->openmdao>=3.3.0->dymos) (1.24.3)\n",
            "Requirement already satisfied: decorator>=4.3.0 in /usr/local/lib/python3.6/dist-packages (from networkx>=2.0->openmdao>=3.3.0->dymos) (4.4.2)\n"
          ],
          "name": "stdout"
        }
      ]
    },
    {
      "cell_type": "markdown",
      "metadata": {
        "id": "Qo3TIWLe_zyX"
      },
      "source": [
        "# Simulating the flight of a basic projectile\n",
        "\n",
        "Dymos can simulate the dynamics of systems which are defined by systems of **ordinary differential equations** or (in some cases) **differential algebraic equations**.\n",
        "\n",
        "As a \"Hello, World!\" for Dymos, consider the differential equations which govern the flight of a projectile in a 2D, rectilinear, constant gravity field:\n",
        "\n",
        "\\begin{align}\n",
        "  \\ddot{x} &= 0 \\\\\n",
        "  \\ddot{y} &= -g\n",
        "\\end{align}\n",
        "\n",
        "Here $x$ is the horizontal position of the projectile, $y$ is the height, and $g$ is the acceleration due to gravity.\n",
        "\n",
        "To simulate this system in Dymos, we first convert this system of 2nd-order differential equations into 1st-order differential equations:\n",
        "\n",
        "\\begin{align}\n",
        "  \\dot{x} &= v_x \\\\\n",
        "  \\dot{y} &= v_y \\\\\n",
        "  \\dot{v_x} &= 0 \\\\\n",
        "  \\dot{v_y} &= -g\n",
        "\\end{align}"
      ]
    },
    {
      "cell_type": "markdown",
      "metadata": {
        "id": "rkm5GDlUBkJ9"
      },
      "source": [
        "# The ODE as an OpenMDAO System\n",
        "\n",
        "Dymos expects the ODE to be provided as an OpenMDAO _System_ - either a single Component, or a Group of components for more complex systems.\n",
        "\n",
        "To define our system, we'll first need to import some packages.\n",
        "Since we're not using parallel processing for this demo, we can ignore the warnings about `mpi4py` and `petsc4py`."
      ]
    },
    {
      "cell_type": "code",
      "metadata": {
        "colab": {
          "base_uri": "https://localhost:8080/"
        },
        "id": "wDzs3J0f_eEP",
        "outputId": "b9d5b99b-3c24-4629-9f68-76f9d46faede"
      },
      "source": [
        "import numpy as np\n",
        "import openmdao.api as om\n",
        "import dymos as dm"
      ],
      "execution_count": 2,
      "outputs": [
        {
          "output_type": "stream",
          "text": [
            "Unable to import mpi4py. Parallel processing unavailable.\n",
            "Unable to import petsc4py. Parallel processing unavailable.\n",
            "Unable to import petsc4py. Parallel processing unavailable.\n"
          ],
          "name": "stdout"
        }
      ]
    },
    {
      "cell_type": "markdown",
      "metadata": {
        "id": "tDYOmRDvCsx8"
      },
      "source": [
        "The ODE System itself in this case is an OpenMDAO ExplicitComponent.  In most cases, ExplicitComponents used as ODE's in Dymos will need the following three methods defined:\n",
        "\n",
        "## `initialize`\n",
        "\n",
        "This method is used to declare options for Components and Groups in OpenMDAO.  In OpenMDAO, any option we create may be used as an initialization argument when we instantiate the class.  Dymos will always pass an option `num_nodes` to the ODE class.  This is the number of points at which the ODE is simultaneously evaluated.  This option is mandatory (it has no default value).\n",
        "\n",
        "## `setup`\n",
        "\n",
        "This is where inputs and outputs are added to our system.  In our case, the ODE accepts two inputs ('vx' and 'vy') and computes the time derivatives of our states: `x`, `y`, `vx`, and `vy`.\n",
        "\n",
        "For this system, the derivatives of the states `x` and `y` are provided by the states `vx` and `vy`.  Therefore it isn't necessary to have our ODE compute their rates, but in this case we will do so for simplicity.\n",
        "\n",
        "We use the OpenMDAO notion of `tags` to let Dymos know that a given output should be used to provide the rate of a state variable.  This makes the ODE a bit more modular, and prevents us from having to explicitly tell Dymos where to find the state's rate every time we use this ODE.  The two relevant tags here are:\n",
        "\n",
        "- state_rate_source:foo\n",
        "\n",
        "Provides the state rate source for the state named `foo`.\n",
        "\n",
        "- state_units:str\n",
        "\n",
        "Specify the default units for the associated state.\n",
        "\n",
        "Finally, we use the `declare_partials` method here to tell OpenMDAO that we want to approximate the partials of each output with respect to each input as a dense matrix using finite-difference differentiation.  Later, we'll demonstrate how to improve the efficiency of Dymos by being smarter about how we compute our derivatives.\n",
        "\n",
        "## `compute`\n",
        "\n",
        "The compute method is where we take values from our inputs then compute and populate the outputs.  The `inputs` and `outputs` are both provided as a dictionary-like interface."
      ]
    },
    {
      "cell_type": "code",
      "metadata": {
        "id": "iVfM_upVCUhQ"
      },
      "source": [
        "class ProjectileODE(om.ExplicitComponent):\n",
        "\n",
        "  def initialize(self):\n",
        "    self.options.declare('num_nodes', types=int,\n",
        "                         desc='the number of points at which this ODE is simultaneously evaluated')\n",
        "\n",
        "  def setup(self):\n",
        "    nn = self.options['num_nodes']\n",
        "    self.add_input('vx', shape=(nn,), units='m/s')\n",
        "    self.add_input('vy', shape=(nn,), units='m/s')\n",
        "\n",
        "    self.add_output('x_dot', shape=(nn,), units='m/s',\n",
        "                    tags=['state_rate_source:x', 'state_units:m'])\n",
        "\n",
        "    self.add_output('y_dot', shape=(nn,), units='m/s',\n",
        "                    tags=['state_rate_source:y', 'state_units:m'])\n",
        "\n",
        "    self.add_output('vx_dot', shape=(nn,), units='m/s**2',\n",
        "                    tags=['state_rate_source:vx', 'state_units:m/s'])\n",
        "\n",
        "    self.add_output('vy_dot', shape=(nn,), units='m/s**2',\n",
        "                    tags=['state_rate_source:vy', 'state_units:m/s'])\n",
        "    \n",
        "    self.declare_partials(of='*', wrt='*', method='fd')\n",
        "    \n",
        "  def compute(self, inputs, outputs):\n",
        "    outputs['x_dot'][:] = inputs['vx']\n",
        "    outputs['y_dot'][:] = inputs['vy']\n",
        "    outputs['vx_dot'][:] = 0.0\n",
        "    outputs['vy_dot'][:] = -9.81\n",
        "    \n"
      ],
      "execution_count": 3,
      "outputs": []
    },
    {
      "cell_type": "markdown",
      "metadata": {
        "id": "1tKza898L84Q"
      },
      "source": [
        "# Using the ODE\n",
        "\n",
        "Let's simulate the trajectory of a cannonball (assuming no drag) using our ODE.  There are a few ways to do this in Dymos:\n",
        "\n",
        "1. Explicitly - We can let `scipy.integrate.solve_ivp` propagate the ODE from some initial state.\n",
        "\n",
        "2. Implicitly - We can guess what the trajectory of the cannonball looks like over some set of discrete points in time and then use a nonlinear solver or an optimizer to iterate on that initial guess until it matches the dynamics given by the ODE.\n",
        "\n",
        "When solving large optimal control problems, Dymos will use the implicit approach to find control profile which minimizes some objective.\n",
        "\n",
        "The explicit simulation is typically used to generate an initial guess or to check the accuracy of the implicit solution.\n"
      ]
    },
    {
      "cell_type": "markdown",
      "metadata": {
        "id": "q4_-VEYwN7zq"
      },
      "source": [
        "# Phases\n",
        "\n",
        "The fundamental building block of trajectories in Dymos is the _Phase_.  A phase represents some portion of the trajectory in time.  We can break complex trajectories into many phases and then link them together to provide continuity in the states, but in a simple system we can often use a single phase to represent the entire trajectory.\n",
        "\n"
      ]
    },
    {
      "cell_type": "markdown",
      "metadata": {
        "id": "eyjktw_KOhg3"
      },
      "source": [
        "# Transcriptions\n",
        "\n",
        "Phases can be seen as a data structure which combines our ODE with some _transcription_.  In Dymos, a _transcription_ is a way of converting the _continous_ problem (finding polynomial representations of the optimal state and control histories of a system) into a _discrete_ representation that can be solved by a nonlinear solver or an nonlinear programming optimization algorithm.\n",
        "\n",
        "The transcriptions in Dymos break a Phase into one or more segments.  On each segment, each state and each control is represented as a polynomial in non-dimensional time.  Systems in which the states are highly nonlinear, with lots of oscillations, generally require a lot of segments.  Our cannonball system here is pretty benign, and can be accurately modeled by a single cubic polynomial segment (the lowest order possible in Dymos).\n"
      ]
    },
    {
      "cell_type": "markdown",
      "metadata": {
        "id": "Htj-Js5NWoJz"
      },
      "source": [
        "# Creating the OpenMDAO Problem\n",
        "\n",
        "So without further ado, let's instantiate an OpenMDAO problem and model our system as a Trajectory with a single Phase."
      ]
    },
    {
      "cell_type": "code",
      "metadata": {
        "id": "S9gRS_J4OhUh"
      },
      "source": [
        "prob = om.Problem()\n",
        "\n",
        "traj = prob.model.add_subsystem('traj', dm.Trajectory())\n",
        "\n",
        "phase = traj.add_phase('phase', dm.Phase(ode_class=ProjectileODE, transcription=dm.Radau(num_segments=1, order=3)))"
      ],
      "execution_count": 4,
      "outputs": []
    },
    {
      "cell_type": "markdown",
      "metadata": {
        "id": "atK_i-hrW3j_"
      },
      "source": [
        "# Propagating the ODE from some initial condition for some set amount of time\n",
        "\n",
        "In Dymos, each Phase has some _special_ variables: time, states, controls, and parameters.  To propagate our ODE, we'll need to apply some rules to our time and states - this problem has no control variables or parameters.\n",
        "\n",
        "First, we'll tell Dymos that the initial time for the Phase should not be treated as a design variable for the optimization.  Whatever initial time we specify will remain unchanged throughout the optimization.\n",
        "\n",
        "The duration of the phase is, in this case, limited to positive values from 1 second to 1000 seconds.  When optimizing the system, these _bounds_ prevent the optimizer from trying nonsensical values (negative times or a duratio of zero seconds."
      ]
    },
    {
      "cell_type": "code",
      "metadata": {
        "id": "AqPmSGWAEr_C"
      },
      "source": [
        "phase.set_time_options(fix_initial=True, duration_bounds=(1, 1000), units='s')"
      ],
      "execution_count": 5,
      "outputs": []
    },
    {
      "cell_type": "markdown",
      "metadata": {
        "id": "pZsgsNlIYS7z"
      },
      "source": [
        "Similarly, we're going to propagate the system from some known initial state, so we'll specify that that value is fixed."
      ]
    },
    {
      "cell_type": "code",
      "metadata": {
        "id": "EsedWznHYap9"
      },
      "source": [
        "phase.set_state_options('x', fix_initial=True)\n",
        "phase.set_state_options('y', fix_initial=True)\n",
        "phase.set_state_options('vx', fix_initial=True)\n",
        "phase.set_state_options('vy', fix_initial=True)"
      ],
      "execution_count": 6,
      "outputs": []
    },
    {
      "cell_type": "markdown",
      "metadata": {
        "id": "oY54TCQUYmu4"
      },
      "source": [
        "Next we call OpenMDAO's `Problem.setup` method.  This works out the various connections between the different systems that Dymos uses to solve this problem and allocates memory.  You can think of this step a bit like compiling our model before we run it."
      ]
    },
    {
      "cell_type": "code",
      "metadata": {
        "colab": {
          "base_uri": "https://localhost:8080/"
        },
        "id": "EwdLi24uYk_9",
        "outputId": "1a51239f-580b-4ba3-aaa0-596cb65dadcd"
      },
      "source": [
        "prob.setup()"
      ],
      "execution_count": 7,
      "outputs": [
        {
          "output_type": "execute_result",
          "data": {
            "text/plain": [
              "<openmdao.core.problem.Problem at 0x7f38e9e776d8>"
            ]
          },
          "metadata": {
            "tags": []
          },
          "execution_count": 7
        }
      ]
    },
    {
      "cell_type": "markdown",
      "metadata": {
        "id": "LROYjvOHZORk"
      },
      "source": [
        "Now that the problem has been setup, we can specify guesses for the variables in our problem.\n",
        "\n",
        "`<path_to_phase>.t_initial` - The initial time of the given phase.  \n",
        "`<path_to_phase>.t_duration` - The time duration of the given phase."
      ]
    },
    {
      "cell_type": "code",
      "metadata": {
        "id": "PLBRLcXaZJW6"
      },
      "source": [
        "prob.set_val('traj.phase.t_initial', 0.0, units='s')\n",
        "prob.set_val('traj.phase.t_duration', 15.0, units='s')"
      ],
      "execution_count": 8,
      "outputs": []
    },
    {
      "cell_type": "markdown",
      "metadata": {
        "id": "5zZwVTG8Z1Wm"
      },
      "source": [
        "We provide guesses for the states across the phase.  Since it's difficult to know where the nodes of the transcription fall in time, Dymos provides some useful interpolation methods that can be used to provide guesses to the states in time.\n",
        "\n",
        "Since `fix_initial` is `True`, the given value at the first node will not be changed throughout an optimization."
      ]
    },
    {
      "cell_type": "code",
      "metadata": {
        "id": "ibxWQSYKZ0XI"
      },
      "source": [
        "prob.set_val('traj.phase.states:x', phase.interpolate(ys=[0, 100], nodes='state_input'), units='m')\n",
        "prob.set_val('traj.phase.states:y', phase.interpolate(ys=[0, 0], nodes='state_input'), units='m')\n",
        "prob.set_val('traj.phase.states:vx', phase.interpolate(ys=[100, 100], nodes='state_input'), units='m/s')\n",
        "prob.set_val('traj.phase.states:vy', phase.interpolate(ys=[100, -100], nodes='state_input'), units='m/s')"
      ],
      "execution_count": 9,
      "outputs": []
    },
    {
      "cell_type": "markdown",
      "metadata": {
        "id": "5K4qtuY2bKL3"
      },
      "source": [
        "# Propagating the Trajectory\n",
        "\n",
        "We'll use Dymos' convenience method, `run_problem` to execute the model without optimization (`run_driver=False`) and then simulate the problem from the given initial states for the given duration (`simulate=True`).\n",
        "\n",
        "Results of the optimization are automatically saved to the OpenMDAO record file `dymos_solution.db`, while the simulation is saved to `dymos_simulation.db`.  Plots of all of our timeseries variables (states and state rates in this case) are made and saved in the `plots` subdirectory."
      ]
    },
    {
      "cell_type": "code",
      "metadata": {
        "colab": {
          "base_uri": "https://localhost:8080/"
        },
        "id": "_VRoWFHba2XU",
        "outputId": "010806c0-1ea6-4fe6-8e1c-003975bb957b"
      },
      "source": [
        "dm.run_problem(prob, run_driver=False, simulate=True, make_plots=True)"
      ],
      "execution_count": 13,
      "outputs": [
        {
          "output_type": "stream",
          "text": [
            "\n",
            "Simulating trajectory traj\n",
            "Done simulating trajectory traj\n"
          ],
          "name": "stdout"
        }
      ]
    },
    {
      "cell_type": "code",
      "metadata": {
        "colab": {
          "base_uri": "https://localhost:8080/",
          "height": 1000,
          "referenced_widgets": [
            "4fd60ccc64dd4bc3aa17a82d8e16c9c8",
            "6a3b5bd37f8f414fb5c4206b2e173d10",
            "371cc74c0bc344779a362f003108b3e6",
            "deb77b99dd854699b398ce2cf924b28e",
            "33cd576dfd5140babcf73a8b3081449e",
            "4fd37cefc7ca4c7184c17c23c2c72f2e",
            "098972b35f8e4ae39ce9caf57b00e6b0",
            "5b61fbffad574033ad246fe60951de32",
            "2cfaeb98ffed475180d39f24e925e810",
            "df0fe757e6c745b9ac4c2f2801401a1e",
            "7d544a1ac15f41a59570c9c7af008111",
            "a33473b4b8a74186bef6a47d03bca462",
            "d33313b57fb848589f19c351a06debca",
            "ec0e6fd6f3754d18a183433553a04a90",
            "1e69ea94b28246a39787db339bd84c99",
            "d81eacfad2ed42349cc0c15c38f13152",
            "8d1ed42b04a748cc83f3d51ee20e02b3",
            "3542197b3ac441118be1f8415e935862"
          ]
        },
        "id": "HADStGTVbUTb",
        "outputId": "420c46ad-70ca-4c3f-d0b1-397ce7ddd512"
      },
      "source": [
        "# TODO: Make these more automatic (and use an interactive plot library like bokeh)\n",
        "\n",
        "from IPython.display import display\n",
        "from ipywidgets import widgets, GridBox\n",
        "\n",
        "items = [widgets.Image(value=open(f'plots/states_{state}.png', 'rb').read()) for state in ['x', 'y', 'vx', 'vy']] + \\\n",
        "[widgets.Image(value=open(f'plots/state_rates_{state}.png', 'rb').read()) for state in ['x', 'y', 'vx', 'vy']]\n",
        "widgets.GridBox(items, layout=widgets.Layout(grid_template_columns=\"repeat(2, 500px)\"))\n"
      ],
      "execution_count": 15,
      "outputs": [
        {
          "output_type": "display_data",
          "data": {
            "application/vnd.jupyter.widget-view+json": {
              "model_id": "4fd60ccc64dd4bc3aa17a82d8e16c9c8",
              "version_minor": 0,
              "version_major": 2
            },
            "text/plain": [
              "GridBox(children=(Image(value=b'\\x89PNG\\r\\n\\x1a\\n\\x00\\x00\\x00\\rIHDR\\x00\\x00\\x01\\xb0\\x00\\x00\\x01 \\x08\\x06\\x00\\x…"
            ]
          },
          "metadata": {
            "tags": []
          }
        }
      ]
    },
    {
      "cell_type": "markdown",
      "metadata": {
        "id": "PtZ--VPonJbN"
      },
      "source": [
        "The plots above show the _implicit_ solution of the states over time (as discrete points) in comparison to a more continuous integration of the states generated by `scipy.integrate.solve_ivp`.\n",
        "\n",
        "There is disagreement between these two solutions.  Since no iteration was performed, the discrete points represent the interpolated initial guess we specified above, while the simulation results are more accurate (to the precision provided by the methods underlying `scipy.integrate.solve_ivp`.)"
      ]
    },
    {
      "cell_type": "markdown",
      "metadata": {
        "id": "zlMEYRcJuj5A"
      },
      "source": [
        "# Summary\n",
        "\n",
        "The simulate method in Dymos is useful to see how the dynamics evolve, but does not currently provide a useful way of targeting or optimizing a trajectory.\n",
        "\n",
        "For that, we need to use a nonlinear solver or optimizer to satisfy constraints in the system."
      ]
    },
    {
      "cell_type": "markdown",
      "metadata": {
        "id": "b8MT2i8Fs-gN"
      },
      "source": [
        "# Boundary Value Problem:  Vary duration such that the cannonball hits the ground\n",
        "\n",
        "In order to solve a boundary value problem, we have to allow the system to iterate.  With OpenMDAO, that gives us two options:\n",
        "\n",
        "1. Use an optimization driver to enforce the constraints.\n",
        "2. Use a nonlinear solver to enforce the constraints."
      ]
    }
  ]
}