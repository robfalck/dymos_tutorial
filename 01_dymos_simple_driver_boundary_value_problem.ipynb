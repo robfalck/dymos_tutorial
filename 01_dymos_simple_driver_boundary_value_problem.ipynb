{
  "nbformat": 4,
  "nbformat_minor": 0,
  "metadata": {
    "colab": {
      "name": "01_dymos_simple_solver_boundary_value_problem.ipynb",
      "provenance": [],
      "collapsed_sections": [],
      "toc_visible": true,
      "authorship_tag": "ABX9TyPIeGFZtEiRkC9xA6GHxBj2",
      "include_colab_link": true
    },
    "kernelspec": {
      "name": "python3",
      "display_name": "Python 3"
    },
    "widgets": {
      "application/vnd.jupyter.widget-state+json": {
        "7f5172a7b550482cbbd68fc5f1adccb7": {
          "model_module": "@jupyter-widgets/controls",
          "model_name": "GridBoxModel",
          "state": {
            "_view_name": "GridBoxView",
            "_dom_classes": [],
            "_model_name": "GridBoxModel",
            "_view_module": "@jupyter-widgets/controls",
            "_model_module_version": "1.5.0",
            "_view_count": null,
            "_view_module_version": "1.5.0",
            "box_style": "",
            "layout": "IPY_MODEL_41ab33cc7d6b4b33820a9ae5c6da5b8e",
            "_model_module": "@jupyter-widgets/controls",
            "children": [
              "IPY_MODEL_a9c30c6935454447b341fd30ac60852d",
              "IPY_MODEL_5605d5b529b84bcaacf1aa8cb9fe1782",
              "IPY_MODEL_f53ddf25a93540158ba22777fc1f2b9e",
              "IPY_MODEL_00b266bf85a6473e9d885b41810811a1",
              "IPY_MODEL_71e6f7c2438c47a0b2b54663f5bb5642",
              "IPY_MODEL_836ebc0b84eb4a93b2984d7ec00d044d",
              "IPY_MODEL_977e04211f2444c1840c9c792ce91a32",
              "IPY_MODEL_b5cc51776e374938afa18d8865a2d444"
            ]
          }
        },
        "41ab33cc7d6b4b33820a9ae5c6da5b8e": {
          "model_module": "@jupyter-widgets/base",
          "model_name": "LayoutModel",
          "state": {
            "_view_name": "LayoutView",
            "grid_template_rows": null,
            "right": null,
            "justify_content": null,
            "_view_module": "@jupyter-widgets/base",
            "overflow": null,
            "_model_module_version": "1.2.0",
            "_view_count": null,
            "flex_flow": null,
            "width": null,
            "min_width": null,
            "border": null,
            "align_items": null,
            "bottom": null,
            "_model_module": "@jupyter-widgets/base",
            "top": null,
            "grid_column": null,
            "overflow_y": null,
            "overflow_x": null,
            "grid_auto_flow": null,
            "grid_area": null,
            "grid_template_columns": "repeat(2, 500px)",
            "flex": null,
            "_model_name": "LayoutModel",
            "justify_items": null,
            "grid_row": null,
            "max_height": null,
            "align_content": null,
            "visibility": null,
            "align_self": null,
            "height": null,
            "min_height": null,
            "padding": null,
            "grid_auto_rows": null,
            "grid_gap": null,
            "max_width": null,
            "order": null,
            "_view_module_version": "1.2.0",
            "grid_template_areas": null,
            "object_position": null,
            "object_fit": null,
            "grid_auto_columns": null,
            "margin": null,
            "display": null,
            "left": null
          }
        },
        "a9c30c6935454447b341fd30ac60852d": {
          "model_module": "@jupyter-widgets/controls",
          "model_name": "ImageModel",
          "state": {
            "_view_name": "ImageView",
            "_dom_classes": [],
            "_model_name": "ImageModel",
            "format": "png",
            "_view_module": "@jupyter-widgets/controls",
            "_model_module_version": "1.5.0",
            "_view_count": null,
            "width": "",
            "_view_module_version": "1.5.0",
            "layout": "IPY_MODEL_4bec43d102b442ea87aaf3e9520ec526",
            "height": "",
            "_model_module": "@jupyter-widgets/controls"
          }
        },
        "5605d5b529b84bcaacf1aa8cb9fe1782": {
          "model_module": "@jupyter-widgets/controls",
          "model_name": "ImageModel",
          "state": {
            "_view_name": "ImageView",
            "_dom_classes": [],
            "_model_name": "ImageModel",
            "format": "png",
            "_view_module": "@jupyter-widgets/controls",
            "_model_module_version": "1.5.0",
            "_view_count": null,
            "width": "",
            "_view_module_version": "1.5.0",
            "layout": "IPY_MODEL_62a984ae7f7e42b9bf95266f95ad3215",
            "height": "",
            "_model_module": "@jupyter-widgets/controls"
          }
        },
        "f53ddf25a93540158ba22777fc1f2b9e": {
          "model_module": "@jupyter-widgets/controls",
          "model_name": "ImageModel",
          "state": {
            "_view_name": "ImageView",
            "_dom_classes": [],
            "_model_name": "ImageModel",
            "format": "png",
            "_view_module": "@jupyter-widgets/controls",
            "_model_module_version": "1.5.0",
            "_view_count": null,
            "width": "",
            "_view_module_version": "1.5.0",
            "layout": "IPY_MODEL_26eef63fdd014e3a9ff3cdc4aa1b7928",
            "height": "",
            "_model_module": "@jupyter-widgets/controls"
          }
        },
        "00b266bf85a6473e9d885b41810811a1": {
          "model_module": "@jupyter-widgets/controls",
          "model_name": "ImageModel",
          "state": {
            "_view_name": "ImageView",
            "_dom_classes": [],
            "_model_name": "ImageModel",
            "format": "png",
            "_view_module": "@jupyter-widgets/controls",
            "_model_module_version": "1.5.0",
            "_view_count": null,
            "width": "",
            "_view_module_version": "1.5.0",
            "layout": "IPY_MODEL_3b5ac23d50954b2990dc48ea81f89b48",
            "height": "",
            "_model_module": "@jupyter-widgets/controls"
          }
        },
        "71e6f7c2438c47a0b2b54663f5bb5642": {
          "model_module": "@jupyter-widgets/controls",
          "model_name": "ImageModel",
          "state": {
            "_view_name": "ImageView",
            "_dom_classes": [],
            "_model_name": "ImageModel",
            "format": "png",
            "_view_module": "@jupyter-widgets/controls",
            "_model_module_version": "1.5.0",
            "_view_count": null,
            "width": "",
            "_view_module_version": "1.5.0",
            "layout": "IPY_MODEL_62f935a48d0b4475a14b1c7282cc8c9b",
            "height": "",
            "_model_module": "@jupyter-widgets/controls"
          }
        },
        "836ebc0b84eb4a93b2984d7ec00d044d": {
          "model_module": "@jupyter-widgets/controls",
          "model_name": "ImageModel",
          "state": {
            "_view_name": "ImageView",
            "_dom_classes": [],
            "_model_name": "ImageModel",
            "format": "png",
            "_view_module": "@jupyter-widgets/controls",
            "_model_module_version": "1.5.0",
            "_view_count": null,
            "width": "",
            "_view_module_version": "1.5.0",
            "layout": "IPY_MODEL_964da6646c5241ee8c906005f7403887",
            "height": "",
            "_model_module": "@jupyter-widgets/controls"
          }
        },
        "977e04211f2444c1840c9c792ce91a32": {
          "model_module": "@jupyter-widgets/controls",
          "model_name": "ImageModel",
          "state": {
            "_view_name": "ImageView",
            "_dom_classes": [],
            "_model_name": "ImageModel",
            "format": "png",
            "_view_module": "@jupyter-widgets/controls",
            "_model_module_version": "1.5.0",
            "_view_count": null,
            "width": "",
            "_view_module_version": "1.5.0",
            "layout": "IPY_MODEL_534c79554d5642c0bf460d27929c0efb",
            "height": "",
            "_model_module": "@jupyter-widgets/controls"
          }
        },
        "b5cc51776e374938afa18d8865a2d444": {
          "model_module": "@jupyter-widgets/controls",
          "model_name": "ImageModel",
          "state": {
            "_view_name": "ImageView",
            "_dom_classes": [],
            "_model_name": "ImageModel",
            "format": "png",
            "_view_module": "@jupyter-widgets/controls",
            "_model_module_version": "1.5.0",
            "_view_count": null,
            "width": "",
            "_view_module_version": "1.5.0",
            "layout": "IPY_MODEL_618316f8a37349c9914d62e2c6a55bb3",
            "height": "",
            "_model_module": "@jupyter-widgets/controls"
          }
        },
        "4bec43d102b442ea87aaf3e9520ec526": {
          "model_module": "@jupyter-widgets/base",
          "model_name": "LayoutModel",
          "state": {
            "_view_name": "LayoutView",
            "grid_template_rows": null,
            "right": null,
            "justify_content": null,
            "_view_module": "@jupyter-widgets/base",
            "overflow": null,
            "_model_module_version": "1.2.0",
            "_view_count": null,
            "flex_flow": null,
            "width": null,
            "min_width": null,
            "border": null,
            "align_items": null,
            "bottom": null,
            "_model_module": "@jupyter-widgets/base",
            "top": null,
            "grid_column": null,
            "overflow_y": null,
            "overflow_x": null,
            "grid_auto_flow": null,
            "grid_area": null,
            "grid_template_columns": null,
            "flex": null,
            "_model_name": "LayoutModel",
            "justify_items": null,
            "grid_row": null,
            "max_height": null,
            "align_content": null,
            "visibility": null,
            "align_self": null,
            "height": null,
            "min_height": null,
            "padding": null,
            "grid_auto_rows": null,
            "grid_gap": null,
            "max_width": null,
            "order": null,
            "_view_module_version": "1.2.0",
            "grid_template_areas": null,
            "object_position": null,
            "object_fit": null,
            "grid_auto_columns": null,
            "margin": null,
            "display": null,
            "left": null
          }
        },
        "62a984ae7f7e42b9bf95266f95ad3215": {
          "model_module": "@jupyter-widgets/base",
          "model_name": "LayoutModel",
          "state": {
            "_view_name": "LayoutView",
            "grid_template_rows": null,
            "right": null,
            "justify_content": null,
            "_view_module": "@jupyter-widgets/base",
            "overflow": null,
            "_model_module_version": "1.2.0",
            "_view_count": null,
            "flex_flow": null,
            "width": null,
            "min_width": null,
            "border": null,
            "align_items": null,
            "bottom": null,
            "_model_module": "@jupyter-widgets/base",
            "top": null,
            "grid_column": null,
            "overflow_y": null,
            "overflow_x": null,
            "grid_auto_flow": null,
            "grid_area": null,
            "grid_template_columns": null,
            "flex": null,
            "_model_name": "LayoutModel",
            "justify_items": null,
            "grid_row": null,
            "max_height": null,
            "align_content": null,
            "visibility": null,
            "align_self": null,
            "height": null,
            "min_height": null,
            "padding": null,
            "grid_auto_rows": null,
            "grid_gap": null,
            "max_width": null,
            "order": null,
            "_view_module_version": "1.2.0",
            "grid_template_areas": null,
            "object_position": null,
            "object_fit": null,
            "grid_auto_columns": null,
            "margin": null,
            "display": null,
            "left": null
          }
        },
        "26eef63fdd014e3a9ff3cdc4aa1b7928": {
          "model_module": "@jupyter-widgets/base",
          "model_name": "LayoutModel",
          "state": {
            "_view_name": "LayoutView",
            "grid_template_rows": null,
            "right": null,
            "justify_content": null,
            "_view_module": "@jupyter-widgets/base",
            "overflow": null,
            "_model_module_version": "1.2.0",
            "_view_count": null,
            "flex_flow": null,
            "width": null,
            "min_width": null,
            "border": null,
            "align_items": null,
            "bottom": null,
            "_model_module": "@jupyter-widgets/base",
            "top": null,
            "grid_column": null,
            "overflow_y": null,
            "overflow_x": null,
            "grid_auto_flow": null,
            "grid_area": null,
            "grid_template_columns": null,
            "flex": null,
            "_model_name": "LayoutModel",
            "justify_items": null,
            "grid_row": null,
            "max_height": null,
            "align_content": null,
            "visibility": null,
            "align_self": null,
            "height": null,
            "min_height": null,
            "padding": null,
            "grid_auto_rows": null,
            "grid_gap": null,
            "max_width": null,
            "order": null,
            "_view_module_version": "1.2.0",
            "grid_template_areas": null,
            "object_position": null,
            "object_fit": null,
            "grid_auto_columns": null,
            "margin": null,
            "display": null,
            "left": null
          }
        },
        "3b5ac23d50954b2990dc48ea81f89b48": {
          "model_module": "@jupyter-widgets/base",
          "model_name": "LayoutModel",
          "state": {
            "_view_name": "LayoutView",
            "grid_template_rows": null,
            "right": null,
            "justify_content": null,
            "_view_module": "@jupyter-widgets/base",
            "overflow": null,
            "_model_module_version": "1.2.0",
            "_view_count": null,
            "flex_flow": null,
            "width": null,
            "min_width": null,
            "border": null,
            "align_items": null,
            "bottom": null,
            "_model_module": "@jupyter-widgets/base",
            "top": null,
            "grid_column": null,
            "overflow_y": null,
            "overflow_x": null,
            "grid_auto_flow": null,
            "grid_area": null,
            "grid_template_columns": null,
            "flex": null,
            "_model_name": "LayoutModel",
            "justify_items": null,
            "grid_row": null,
            "max_height": null,
            "align_content": null,
            "visibility": null,
            "align_self": null,
            "height": null,
            "min_height": null,
            "padding": null,
            "grid_auto_rows": null,
            "grid_gap": null,
            "max_width": null,
            "order": null,
            "_view_module_version": "1.2.0",
            "grid_template_areas": null,
            "object_position": null,
            "object_fit": null,
            "grid_auto_columns": null,
            "margin": null,
            "display": null,
            "left": null
          }
        },
        "62f935a48d0b4475a14b1c7282cc8c9b": {
          "model_module": "@jupyter-widgets/base",
          "model_name": "LayoutModel",
          "state": {
            "_view_name": "LayoutView",
            "grid_template_rows": null,
            "right": null,
            "justify_content": null,
            "_view_module": "@jupyter-widgets/base",
            "overflow": null,
            "_model_module_version": "1.2.0",
            "_view_count": null,
            "flex_flow": null,
            "width": null,
            "min_width": null,
            "border": null,
            "align_items": null,
            "bottom": null,
            "_model_module": "@jupyter-widgets/base",
            "top": null,
            "grid_column": null,
            "overflow_y": null,
            "overflow_x": null,
            "grid_auto_flow": null,
            "grid_area": null,
            "grid_template_columns": null,
            "flex": null,
            "_model_name": "LayoutModel",
            "justify_items": null,
            "grid_row": null,
            "max_height": null,
            "align_content": null,
            "visibility": null,
            "align_self": null,
            "height": null,
            "min_height": null,
            "padding": null,
            "grid_auto_rows": null,
            "grid_gap": null,
            "max_width": null,
            "order": null,
            "_view_module_version": "1.2.0",
            "grid_template_areas": null,
            "object_position": null,
            "object_fit": null,
            "grid_auto_columns": null,
            "margin": null,
            "display": null,
            "left": null
          }
        },
        "964da6646c5241ee8c906005f7403887": {
          "model_module": "@jupyter-widgets/base",
          "model_name": "LayoutModel",
          "state": {
            "_view_name": "LayoutView",
            "grid_template_rows": null,
            "right": null,
            "justify_content": null,
            "_view_module": "@jupyter-widgets/base",
            "overflow": null,
            "_model_module_version": "1.2.0",
            "_view_count": null,
            "flex_flow": null,
            "width": null,
            "min_width": null,
            "border": null,
            "align_items": null,
            "bottom": null,
            "_model_module": "@jupyter-widgets/base",
            "top": null,
            "grid_column": null,
            "overflow_y": null,
            "overflow_x": null,
            "grid_auto_flow": null,
            "grid_area": null,
            "grid_template_columns": null,
            "flex": null,
            "_model_name": "LayoutModel",
            "justify_items": null,
            "grid_row": null,
            "max_height": null,
            "align_content": null,
            "visibility": null,
            "align_self": null,
            "height": null,
            "min_height": null,
            "padding": null,
            "grid_auto_rows": null,
            "grid_gap": null,
            "max_width": null,
            "order": null,
            "_view_module_version": "1.2.0",
            "grid_template_areas": null,
            "object_position": null,
            "object_fit": null,
            "grid_auto_columns": null,
            "margin": null,
            "display": null,
            "left": null
          }
        },
        "534c79554d5642c0bf460d27929c0efb": {
          "model_module": "@jupyter-widgets/base",
          "model_name": "LayoutModel",
          "state": {
            "_view_name": "LayoutView",
            "grid_template_rows": null,
            "right": null,
            "justify_content": null,
            "_view_module": "@jupyter-widgets/base",
            "overflow": null,
            "_model_module_version": "1.2.0",
            "_view_count": null,
            "flex_flow": null,
            "width": null,
            "min_width": null,
            "border": null,
            "align_items": null,
            "bottom": null,
            "_model_module": "@jupyter-widgets/base",
            "top": null,
            "grid_column": null,
            "overflow_y": null,
            "overflow_x": null,
            "grid_auto_flow": null,
            "grid_area": null,
            "grid_template_columns": null,
            "flex": null,
            "_model_name": "LayoutModel",
            "justify_items": null,
            "grid_row": null,
            "max_height": null,
            "align_content": null,
            "visibility": null,
            "align_self": null,
            "height": null,
            "min_height": null,
            "padding": null,
            "grid_auto_rows": null,
            "grid_gap": null,
            "max_width": null,
            "order": null,
            "_view_module_version": "1.2.0",
            "grid_template_areas": null,
            "object_position": null,
            "object_fit": null,
            "grid_auto_columns": null,
            "margin": null,
            "display": null,
            "left": null
          }
        },
        "618316f8a37349c9914d62e2c6a55bb3": {
          "model_module": "@jupyter-widgets/base",
          "model_name": "LayoutModel",
          "state": {
            "_view_name": "LayoutView",
            "grid_template_rows": null,
            "right": null,
            "justify_content": null,
            "_view_module": "@jupyter-widgets/base",
            "overflow": null,
            "_model_module_version": "1.2.0",
            "_view_count": null,
            "flex_flow": null,
            "width": null,
            "min_width": null,
            "border": null,
            "align_items": null,
            "bottom": null,
            "_model_module": "@jupyter-widgets/base",
            "top": null,
            "grid_column": null,
            "overflow_y": null,
            "overflow_x": null,
            "grid_auto_flow": null,
            "grid_area": null,
            "grid_template_columns": null,
            "flex": null,
            "_model_name": "LayoutModel",
            "justify_items": null,
            "grid_row": null,
            "max_height": null,
            "align_content": null,
            "visibility": null,
            "align_self": null,
            "height": null,
            "min_height": null,
            "padding": null,
            "grid_auto_rows": null,
            "grid_gap": null,
            "max_width": null,
            "order": null,
            "_view_module_version": "1.2.0",
            "grid_template_areas": null,
            "object_position": null,
            "object_fit": null,
            "grid_auto_columns": null,
            "margin": null,
            "display": null,
            "left": null
          }
        }
      }
    }
  },
  "cells": [
    {
      "cell_type": "markdown",
      "metadata": {
        "id": "view-in-github",
        "colab_type": "text"
      },
      "source": [
        "<a href=\"https://colab.research.google.com/github/robfalck/dymos_tutorial/blob/main/01_dymos_simple_driver_boundary_value_problem.ipynb\" target=\"_parent\"><img src=\"https://colab.research.google.com/assets/colab-badge.svg\" alt=\"Open In Colab\"/></a>"
      ]
    },
    {
      "cell_type": "markdown",
      "metadata": {
        "id": "BCtX7Xl9_OO_"
      },
      "source": [
        "# Dymos: Using an Optimizer to Solve a Simple Boundary Value Problem\n",
        "\n",
        "In the previous notebook, we demonstrated\n",
        "- how to install Dymos\n",
        "- how to define a simple ODE system\n",
        "- how to use that system to propagate a simple trajectory\n",
        "\n",
        "Using the `scipy.itegrate.solve_ivp` functionality from within Dymos will provide a trajectory assuming we know the initial state, control profile, and time duration of that trajectory.\n",
        "\n",
        "In our next use case we want to solve a simple boundary value problem:\n",
        "\n",
        "_How far will the cannonball fly?_\n",
        "\n",
        "In order to determine this, we need to allow the duration of the flight to vary such that the final height of the cannonball is zero.  There are two general approaches to this.\n",
        "\n",
        "1. Use an optimizer and pose the problem as an optimal control problem.\n",
        "2. Use a nonlinear solver and pose the problem with residuals to be driven to zero.\n",
        "\n",
        "# Posing the cannonball boundary value problem as an optimal control problem.\n",
        "\n",
        "The optimal control problem can be stated as:\n",
        "\n",
        "\\begin{align}\n",
        "  \\mathrm{Minimize}\\;J &= t_f \\\\\n",
        "  \\mathrm{subject\\;to\\!:} \\\\\n",
        "  x(t_0) &= 0 \\;\\mathrm{m} \\\\\n",
        "  y(t_0) &= 0 \\;\\mathrm{m}\\\\\n",
        "  vx(t_0) &= 100 \\;\\mathrm{m/s} \\\\\n",
        "  vy(t_0) &= 100 \\;\\mathrm{m/s} \\\\\n",
        "  y(t_f) &= 0 \\;\\mathrm{m}\n",
        "\\end{align}\n",
        "\n",
        "Traditionally, the collocation techniques in Dymos have used an optimizer to satisfy the _defect constraints_ ($\\Delta$).  \n",
        "These defects are the difference between the slope of each state polynomial representation in each segment and the rate of change as given by the ODE.\n",
        "In Dymos, these defects are measured at a certain subset of our nodes called the _collocation nodes_.  For the Radau pseudospectral transcription, each 3rd-order segment has 4 state input nodes, and 3 collocation nodes.\n",
        "Dymos handles this underlying transcription from an optimal control problem into a nonlinear programming (NLP) problem.\n",
        "The equivalent NLP problem for our optimal control problem above is:\n",
        "\n",
        "\\begin{align}\n",
        "  \\mathrm{Minimize}\\;J &= t[-1] \\\\\n",
        "  \\mathrm{subject\\;to\\!:} \\\\\n",
        "  x_{lb} &\\le x_i \\le x_{ub} \\\\\n",
        "  y_{lb} &\\le y_i \\le y_{ub} \\\\\n",
        "  vx_{lb} &\\le vx_i \\le vx_{ub} \\\\\n",
        "  vy_{lb} &\\le vy_i \\le vy_{ub} \\\\\n",
        "  \\Delta x_j &= 0 \\\\\n",
        "  \\Delta y_j &= 0 \\\\\n",
        "  \\Delta vx_j &= 0 \\\\\n",
        "  \\Delta vy_j &= 0 \\\\\n",
        "  vy[-1] &= 0 \\\\\n",
        "  i &= 1\\;...n-1 \\\\\n",
        "  j &= 0\\;...n-2 \\\\\n",
        "\\end{align}\n",
        "\n",
        "In the case of our single 3rd-order Radau segment, we have 4 nodes (n=4).\n",
        "Since each initial state is fixed, we have 12 design variables and 12 constraints.  There is, at most, a single solution to this problem.  This makes sense.  Since there are no control variables or changes in the initial state allowed, there should be only one possible physical path for the cannonball.  Most optimizers will be perfectly capable of solving this problem, despite the fact that it only has a single feasible solution.\n",
        "\n",
        "# Solving the optimal control problem\n",
        "\n",
        "First, lets bring in our definition of the ODE and the other general setup that we used in the previous notebook."
      ]
    },
    {
      "cell_type": "code",
      "metadata": {
        "colab": {
          "base_uri": "https://localhost:8080/"
        },
        "id": "qIINWcMI_bEn",
        "outputId": "a48853e7-d13c-4362-ddd4-359e0ed210e5"
      },
      "source": [
        "!pip install dymos"
      ],
      "execution_count": 6,
      "outputs": [
        {
          "output_type": "stream",
          "text": [
            "Requirement already satisfied: dymos in /usr/local/lib/python3.6/dist-packages (0.17.0)\n",
            "Requirement already satisfied: openmdao>=3.3.0 in /usr/local/lib/python3.6/dist-packages (from dymos) (3.5.0)\n",
            "Requirement already satisfied: numpy>=1.14.1 in /usr/local/lib/python3.6/dist-packages (from dymos) (1.18.5)\n",
            "Requirement already satisfied: scipy>=1.0.0 in /usr/local/lib/python3.6/dist-packages (from dymos) (1.4.1)\n",
            "Requirement already satisfied: pyparsing in /usr/local/lib/python3.6/dist-packages (from openmdao>=3.3.0->dymos) (2.4.7)\n",
            "Requirement already satisfied: pyDOE2 in /usr/local/lib/python3.6/dist-packages (from openmdao>=3.3.0->dymos) (1.3.0)\n",
            "Requirement already satisfied: requests in /usr/local/lib/python3.6/dist-packages (from openmdao>=3.3.0->dymos) (2.23.0)\n",
            "Requirement already satisfied: networkx>=2.0 in /usr/local/lib/python3.6/dist-packages (from openmdao>=3.3.0->dymos) (2.5)\n",
            "Requirement already satisfied: chardet<4,>=3.0.2 in /usr/local/lib/python3.6/dist-packages (from requests->openmdao>=3.3.0->dymos) (3.0.4)\n",
            "Requirement already satisfied: urllib3!=1.25.0,!=1.25.1,<1.26,>=1.21.1 in /usr/local/lib/python3.6/dist-packages (from requests->openmdao>=3.3.0->dymos) (1.24.3)\n",
            "Requirement already satisfied: idna<3,>=2.5 in /usr/local/lib/python3.6/dist-packages (from requests->openmdao>=3.3.0->dymos) (2.10)\n",
            "Requirement already satisfied: certifi>=2017.4.17 in /usr/local/lib/python3.6/dist-packages (from requests->openmdao>=3.3.0->dymos) (2020.12.5)\n",
            "Requirement already satisfied: decorator>=4.3.0 in /usr/local/lib/python3.6/dist-packages (from networkx>=2.0->openmdao>=3.3.0->dymos) (4.4.2)\n"
          ],
          "name": "stdout"
        }
      ]
    },
    {
      "cell_type": "code",
      "metadata": {
        "id": "wDzs3J0f_eEP"
      },
      "source": [
        "import numpy as np\n",
        "import openmdao.api as om\n",
        "import dymos as dm"
      ],
      "execution_count": 7,
      "outputs": []
    },
    {
      "cell_type": "code",
      "metadata": {
        "id": "iVfM_upVCUhQ"
      },
      "source": [
        "class ProjectileODE(om.ExplicitComponent):\n",
        "\n",
        "  def initialize(self):\n",
        "    self.options.declare('num_nodes', types=int,\n",
        "                         desc='the number of points at which this ODE is simultaneously evaluated')\n",
        "\n",
        "  def setup(self):\n",
        "    nn = self.options['num_nodes']\n",
        "    self.add_input('vx', shape=(nn,), units='m/s')\n",
        "    self.add_input('vy', shape=(nn,), units='m/s')\n",
        "\n",
        "    self.add_output('x_dot', shape=(nn,), units='m/s',\n",
        "                    tags=['state_rate_source:x', 'state_units:m'])\n",
        "\n",
        "    self.add_output('y_dot', shape=(nn,), units='m/s',\n",
        "                    tags=['state_rate_source:y', 'state_units:m'])\n",
        "\n",
        "    self.add_output('vx_dot', shape=(nn,), units='m/s**2',\n",
        "                    tags=['state_rate_source:vx', 'state_units:m/s'])\n",
        "\n",
        "    self.add_output('vy_dot', shape=(nn,), units='m/s**2',\n",
        "                    tags=['state_rate_source:vy', 'state_units:m/s'])\n",
        "    \n",
        "    self.declare_partials(of='*', wrt='*', method='fd')\n",
        "    \n",
        "  def compute(self, inputs, outputs):\n",
        "    outputs['x_dot'][:] = inputs['vx']\n",
        "    outputs['y_dot'][:] = inputs['vy']\n",
        "    outputs['vx_dot'][:] = 0.0\n",
        "    outputs['vy_dot'][:] = -9.81\n",
        "    \n"
      ],
      "execution_count": 8,
      "outputs": []
    },
    {
      "cell_type": "code",
      "metadata": {
        "id": "S9gRS_J4OhUh"
      },
      "source": [
        "prob = om.Problem()\n",
        "\n",
        "traj = prob.model.add_subsystem('traj', dm.Trajectory())\n",
        "\n",
        "phase = traj.add_phase('phase', dm.Phase(ode_class=ProjectileODE, transcription=dm.Radau(num_segments=1, order=3)))\n",
        "\n",
        "phase.set_time_options(fix_initial=True, duration_bounds=(1, 1000), units='s')\n",
        "\n",
        "phase.set_state_options('x', fix_initial=True)\n",
        "phase.set_state_options('y', fix_initial=True)\n",
        "phase.set_state_options('vx', fix_initial=True)\n",
        "phase.set_state_options('vy', fix_initial=True)"
      ],
      "execution_count": 9,
      "outputs": []
    },
    {
      "cell_type": "markdown",
      "metadata": {
        "id": "f9I-80MxBjPC"
      },
      "source": [
        "# Imposing state boundary constraints\n",
        "\n",
        "There are two ways in which we can impose boundary constraints on the state.  The first is to use the arguments `fix_initial` and `fix_final`.\n",
        "\n",
        "Using `fix_final` removes the final value of the state as a design variable.  That is, our final value of `y` will always be satisfied and the optimizer will work to find the rest of the state history.\n",
        "\n",
        "The other option is to use a nonlinear boundary constraint.  This is a constraint applied after-the-fact.  The optimizer is free to suggest a final value of `y` that violates the constraint, but then will work to satisfy it as it iterates.  This approach gives the optimizer a bit more freedom to explore the design space and might therefore be more robust.  Using `fix_initial` and `fix_final` also impose limitations when using shooting methods in Dymos, which we'll discuss later."
      ]
    },
    {
      "cell_type": "code",
      "metadata": {
        "id": "AqPmSGWAEr_C"
      },
      "source": [
        "phase.add_boundary_constraint('y', loc='final', equals=0)"
      ],
      "execution_count": 10,
      "outputs": []
    },
    {
      "cell_type": "markdown",
      "metadata": {
        "id": "0uVvngwnUHeG"
      },
      "source": [
        "# Adding an objective\n",
        "\n",
        "Using an optimization driver **requires** that an objective be specified.\n",
        "Again, in this case it's somewhat meaningless, there should only be a single valid solution that satisfies all of our constraints.\n",
        "To satisfy the driver, we'll set the objective to be the final time.\n",
        "Note that the Dymos `Phase` object has an `add_objective` method that's similar to the standard OpenMDAO `add_objective` method, but also allows us to specify the _locaiton_ in time where the objective should be evaluated (`'initial'` or `'final'`).\n",
        "\n",
        "The variable `'time'` is recognized by Dymos as the one of the special variables in the phase (along with states, controls, and parameters).  If we wanted to, we could also make any output of the ODE an objective by specifying the ODE-relative path to that variable."
      ]
    },
    {
      "cell_type": "code",
      "metadata": {
        "id": "y9Ed4HJMU0Cr"
      },
      "source": [
        "phase.add_objective('time', loc='final', ref=1.0)"
      ],
      "execution_count": 17,
      "outputs": []
    },
    {
      "cell_type": "markdown",
      "metadata": {
        "id": "ULHu6V8IEZqD"
      },
      "source": [
        "# Specifying a driver\n",
        "\n",
        "Since we're performing optimization now, we'll need a driver.\n",
        "The optimizers in `scipy.optimize` will work in this case.  To use them, we use OpenMDAO's `ScipyOptimizeDriver`."
      ]
    },
    {
      "cell_type": "code",
      "metadata": {
        "id": "EsedWznHYap9"
      },
      "source": [
        "prob.driver = om.ScipyOptimizeDriver()"
      ],
      "execution_count": 18,
      "outputs": []
    },
    {
      "cell_type": "markdown",
      "metadata": {
        "id": "oY54TCQUYmu4"
      },
      "source": [
        "Next we call OpenMDAO's `Problem.setup` method.  This works out the various connections between the different systems that Dymos uses to solve this problem and allocates memory.  You can think of this step a bit like compiling our model before we run it."
      ]
    },
    {
      "cell_type": "code",
      "metadata": {
        "colab": {
          "base_uri": "https://localhost:8080/"
        },
        "id": "EwdLi24uYk_9",
        "outputId": "31793b93-e494-4941-a8f3-9d6c0599dbbd"
      },
      "source": [
        "prob.setup()"
      ],
      "execution_count": 19,
      "outputs": [
        {
          "output_type": "execute_result",
          "data": {
            "text/plain": [
              "<openmdao.core.problem.Problem at 0x7f3e99f6e320>"
            ]
          },
          "metadata": {
            "tags": []
          },
          "execution_count": 19
        }
      ]
    },
    {
      "cell_type": "markdown",
      "metadata": {
        "id": "LROYjvOHZORk"
      },
      "source": [
        "As before, we'll specify an initial guess for the initial time and duration of the phase, along with linear guesses to the state-time history."
      ]
    },
    {
      "cell_type": "code",
      "metadata": {
        "id": "PLBRLcXaZJW6"
      },
      "source": [
        "prob.set_val('traj.phase.t_initial', 0.0, units='s')\n",
        "prob.set_val('traj.phase.t_duration', 15.0, units='s')\n",
        "\n",
        "prob.set_val('traj.phase.states:x', phase.interpolate(ys=[0, 100], nodes='state_input'), units='m')\n",
        "prob.set_val('traj.phase.states:y', phase.interpolate(ys=[0, 0], nodes='state_input'), units='m')\n",
        "prob.set_val('traj.phase.states:vx', phase.interpolate(ys=[100, 100], nodes='state_input'), units='m/s')\n",
        "prob.set_val('traj.phase.states:vy', phase.interpolate(ys=[100, -100], nodes='state_input'), units='m/s')"
      ],
      "execution_count": 20,
      "outputs": []
    },
    {
      "cell_type": "markdown",
      "metadata": {
        "id": "5K4qtuY2bKL3"
      },
      "source": [
        "# Solving the Problem\n",
        "\n",
        "To solve this problem, we need to allow the driver to iterate.\n",
        "The native OpenMDAO option to do so is `Problem.run_driver`.\n",
        "\n",
        "Dymos provides its own function, `dymos.run_problem`, which is basically a wrapper around the OpenMDAO method with some additional conveniences built in.\n",
        "Though not necessary yet, we'll use that method just to get in the habit of doing so.\n"
      ]
    },
    {
      "cell_type": "code",
      "metadata": {
        "colab": {
          "base_uri": "https://localhost:8080/"
        },
        "id": "_VRoWFHba2XU",
        "outputId": "d864cf62-3fc3-45d1-931a-7fcccddc96a5"
      },
      "source": [
        "dm.run_problem(prob, run_driver=True, simulate=True, make_plots=True)"
      ],
      "execution_count": 21,
      "outputs": [
        {
          "output_type": "stream",
          "text": [
            "Model viewer data has already has already been recorded for Driver.\n",
            "Optimization terminated successfully.    (Exit mode 0)\n",
            "            Current function value: 20.387359836901105\n",
            "            Iterations: 2\n",
            "            Function evaluations: 2\n",
            "            Gradient evaluations: 2\n",
            "Optimization Complete\n",
            "-----------------------------------\n",
            "\n",
            "Simulating trajectory traj\n"
          ],
          "name": "stdout"
        },
        {
          "output_type": "stream",
          "text": [
            "/usr/local/lib/python3.6/dist-packages/openmdao/recorders/recording_manager.py:266: UserWarning:The model is being run again, if the options or scaling of any components has changed then only their new values will be recorded.\n"
          ],
          "name": "stderr"
        },
        {
          "output_type": "stream",
          "text": [
            "Done simulating trajectory traj\n"
          ],
          "name": "stdout"
        }
      ]
    },
    {
      "cell_type": "code",
      "metadata": {
        "colab": {
          "base_uri": "https://localhost:8080/",
          "height": 1000,
          "referenced_widgets": [
            "7f5172a7b550482cbbd68fc5f1adccb7",
            "41ab33cc7d6b4b33820a9ae5c6da5b8e",
            "a9c30c6935454447b341fd30ac60852d",
            "5605d5b529b84bcaacf1aa8cb9fe1782",
            "f53ddf25a93540158ba22777fc1f2b9e",
            "00b266bf85a6473e9d885b41810811a1",
            "71e6f7c2438c47a0b2b54663f5bb5642",
            "836ebc0b84eb4a93b2984d7ec00d044d",
            "977e04211f2444c1840c9c792ce91a32",
            "b5cc51776e374938afa18d8865a2d444",
            "4bec43d102b442ea87aaf3e9520ec526",
            "62a984ae7f7e42b9bf95266f95ad3215",
            "26eef63fdd014e3a9ff3cdc4aa1b7928",
            "3b5ac23d50954b2990dc48ea81f89b48",
            "62f935a48d0b4475a14b1c7282cc8c9b",
            "964da6646c5241ee8c906005f7403887",
            "534c79554d5642c0bf460d27929c0efb",
            "618316f8a37349c9914d62e2c6a55bb3"
          ]
        },
        "id": "HADStGTVbUTb",
        "outputId": "ddb8515e-f92a-40b2-c41d-f5738f3e72b3"
      },
      "source": [
        "# TODO: Make these more automatic (and use an interactive plot library like bokeh)\n",
        "\n",
        "from IPython.display import display\n",
        "from ipywidgets import widgets, GridBox\n",
        "\n",
        "items = [widgets.Image(value=open(f'plots/states_{state}.png', 'rb').read()) for state in ['x', 'y', 'vx', 'vy']] + \\\n",
        "[widgets.Image(value=open(f'plots/state_rates_{state}.png', 'rb').read()) for state in ['x', 'y', 'vx', 'vy']]\n",
        "widgets.GridBox(items, layout=widgets.Layout(grid_template_columns=\"repeat(2, 500px)\"))\n"
      ],
      "execution_count": 22,
      "outputs": [
        {
          "output_type": "display_data",
          "data": {
            "application/vnd.jupyter.widget-view+json": {
              "model_id": "7f5172a7b550482cbbd68fc5f1adccb7",
              "version_minor": 0,
              "version_major": 2
            },
            "text/plain": [
              "GridBox(children=(Image(value=b'\\x89PNG\\r\\n\\x1a\\n\\x00\\x00\\x00\\rIHDR\\x00\\x00\\x01\\xb0\\x00\\x00\\x01 \\x08\\x06\\x00\\x…"
            ]
          },
          "metadata": {
            "tags": []
          }
        }
      ]
    },
    {
      "cell_type": "markdown",
      "metadata": {
        "id": "PtZ--VPonJbN"
      },
      "source": [
        "# The Solution\n",
        "\n",
        "The plots above show that the implicit solution and the simulated trajectory are now in agreement (the simulated trajectory is a reasonably accurate interpolation of the solution).\n",
        "\n",
        "To extract the solution, we can pull values for the special variables in the phase from the _timeseries_ output."
      ]
    },
    {
      "cell_type": "code",
      "metadata": {
        "colab": {
          "base_uri": "https://localhost:8080/"
        },
        "id": "b2dbYBF6Wtar",
        "outputId": "e699b35d-6943-4241-ab87-4d8b1f58712f"
      },
      "source": [
        "t = prob.get_val('traj.phase.timeseries.time')\n",
        "x = prob.get_val('traj.phase.timeseries.states:x')\n",
        "y = prob.get_val('traj.phase.timeseries.states:y')\n",
        "\n",
        "print(f'The time of flight is {t[-1, 0]} sec')\n",
        "print(f'The range flown is {x[-1, 0]} m')\n",
        "print(f'The final altitude of the cannonball is {y[-1, 0]} m')"
      ],
      "execution_count": 25,
      "outputs": [
        {
          "output_type": "stream",
          "text": [
            "The time of flight is 20.387359836901105 sec\n",
            "The range flown is 2038.7359836901096 m\n",
            "The final altitude of the cannonball is -5.684341886080802e-14 m\n"
          ],
          "name": "stdout"
        }
      ]
    }
  ]
}