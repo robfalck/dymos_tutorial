{
  "nbformat": 4,
  "nbformat_minor": 0,
  "metadata": {
    "colab": {
      "name": "00_dymos_basics.ipynb",
      "provenance": [],
      "collapsed_sections": [],
      "toc_visible": true,
      "authorship_tag": "ABX9TyPz4LJcgNIr472eKlVe7Usv",
      "include_colab_link": true
    },
    "kernelspec": {
      "name": "python3",
      "display_name": "Python 3"
    },
    "widgets": {
      "application/vnd.jupyter.widget-state+json": {
        "2362bc6042894f7289aad635f98c958d": {
          "model_module": "@jupyter-widgets/controls",
          "model_name": "GridBoxModel",
          "state": {
            "_view_name": "GridBoxView",
            "_dom_classes": [],
            "_model_name": "GridBoxModel",
            "_view_module": "@jupyter-widgets/controls",
            "_model_module_version": "1.5.0",
            "_view_count": null,
            "_view_module_version": "1.5.0",
            "box_style": "",
            "layout": "IPY_MODEL_0ace72bf002e41a4ab2018055a59addf",
            "_model_module": "@jupyter-widgets/controls",
            "children": [
              "IPY_MODEL_b456274a047c4cf78ecc9a6626406325",
              "IPY_MODEL_431d217a9455403bb65e1d1d20f87790",
              "IPY_MODEL_4a57e5526cb54bd8b0674abf4c6c3adb",
              "IPY_MODEL_6db1cccaea32437d9bf9d2bbe5f9b72f",
              "IPY_MODEL_16b148d62be744cba00718557a712461",
              "IPY_MODEL_e114469dc2f14133985e14d24fc8511e",
              "IPY_MODEL_bbefc96166464ef5984540842ca6e113",
              "IPY_MODEL_a917c85997f849f2b01f9d4e53278ace"
            ]
          }
        },
        "0ace72bf002e41a4ab2018055a59addf": {
          "model_module": "@jupyter-widgets/base",
          "model_name": "LayoutModel",
          "state": {
            "_view_name": "LayoutView",
            "grid_template_rows": null,
            "right": null,
            "justify_content": null,
            "_view_module": "@jupyter-widgets/base",
            "overflow": null,
            "_model_module_version": "1.2.0",
            "_view_count": null,
            "flex_flow": null,
            "width": null,
            "min_width": null,
            "border": null,
            "align_items": null,
            "bottom": null,
            "_model_module": "@jupyter-widgets/base",
            "top": null,
            "grid_column": null,
            "overflow_y": null,
            "overflow_x": null,
            "grid_auto_flow": null,
            "grid_area": null,
            "grid_template_columns": "repeat(2, 500px)",
            "flex": null,
            "_model_name": "LayoutModel",
            "justify_items": null,
            "grid_row": null,
            "max_height": null,
            "align_content": null,
            "visibility": null,
            "align_self": null,
            "height": null,
            "min_height": null,
            "padding": null,
            "grid_auto_rows": null,
            "grid_gap": null,
            "max_width": null,
            "order": null,
            "_view_module_version": "1.2.0",
            "grid_template_areas": null,
            "object_position": null,
            "object_fit": null,
            "grid_auto_columns": null,
            "margin": null,
            "display": null,
            "left": null
          }
        },
        "b456274a047c4cf78ecc9a6626406325": {
          "model_module": "@jupyter-widgets/controls",
          "model_name": "ImageModel",
          "state": {
            "_view_name": "ImageView",
            "_dom_classes": [],
            "_model_name": "ImageModel",
            "format": "png",
            "_view_module": "@jupyter-widgets/controls",
            "_model_module_version": "1.5.0",
            "_view_count": null,
            "width": "",
            "_view_module_version": "1.5.0",
            "layout": "IPY_MODEL_831f5f23b98c4c7ea975251e78a939ac",
            "height": "",
            "_model_module": "@jupyter-widgets/controls"
          }
        },
        "431d217a9455403bb65e1d1d20f87790": {
          "model_module": "@jupyter-widgets/controls",
          "model_name": "ImageModel",
          "state": {
            "_view_name": "ImageView",
            "_dom_classes": [],
            "_model_name": "ImageModel",
            "format": "png",
            "_view_module": "@jupyter-widgets/controls",
            "_model_module_version": "1.5.0",
            "_view_count": null,
            "width": "",
            "_view_module_version": "1.5.0",
            "layout": "IPY_MODEL_1c79a9a8f90b4171b1f5f0a81c4db705",
            "height": "",
            "_model_module": "@jupyter-widgets/controls"
          }
        },
        "4a57e5526cb54bd8b0674abf4c6c3adb": {
          "model_module": "@jupyter-widgets/controls",
          "model_name": "ImageModel",
          "state": {
            "_view_name": "ImageView",
            "_dom_classes": [],
            "_model_name": "ImageModel",
            "format": "png",
            "_view_module": "@jupyter-widgets/controls",
            "_model_module_version": "1.5.0",
            "_view_count": null,
            "width": "",
            "_view_module_version": "1.5.0",
            "layout": "IPY_MODEL_8c72bf1b6ce44d7d9dc05c8f79f66de6",
            "height": "",
            "_model_module": "@jupyter-widgets/controls"
          }
        },
        "6db1cccaea32437d9bf9d2bbe5f9b72f": {
          "model_module": "@jupyter-widgets/controls",
          "model_name": "ImageModel",
          "state": {
            "_view_name": "ImageView",
            "_dom_classes": [],
            "_model_name": "ImageModel",
            "format": "png",
            "_view_module": "@jupyter-widgets/controls",
            "_model_module_version": "1.5.0",
            "_view_count": null,
            "width": "",
            "_view_module_version": "1.5.0",
            "layout": "IPY_MODEL_abcdf79531ef4471add387760cc7b24e",
            "height": "",
            "_model_module": "@jupyter-widgets/controls"
          }
        },
        "16b148d62be744cba00718557a712461": {
          "model_module": "@jupyter-widgets/controls",
          "model_name": "ImageModel",
          "state": {
            "_view_name": "ImageView",
            "_dom_classes": [],
            "_model_name": "ImageModel",
            "format": "png",
            "_view_module": "@jupyter-widgets/controls",
            "_model_module_version": "1.5.0",
            "_view_count": null,
            "width": "",
            "_view_module_version": "1.5.0",
            "layout": "IPY_MODEL_72233d70cf274d4dbb69ab92e7dfc065",
            "height": "",
            "_model_module": "@jupyter-widgets/controls"
          }
        },
        "e114469dc2f14133985e14d24fc8511e": {
          "model_module": "@jupyter-widgets/controls",
          "model_name": "ImageModel",
          "state": {
            "_view_name": "ImageView",
            "_dom_classes": [],
            "_model_name": "ImageModel",
            "format": "png",
            "_view_module": "@jupyter-widgets/controls",
            "_model_module_version": "1.5.0",
            "_view_count": null,
            "width": "",
            "_view_module_version": "1.5.0",
            "layout": "IPY_MODEL_b90b0a2aa2a04dc7abe5dc464563cf6a",
            "height": "",
            "_model_module": "@jupyter-widgets/controls"
          }
        },
        "bbefc96166464ef5984540842ca6e113": {
          "model_module": "@jupyter-widgets/controls",
          "model_name": "ImageModel",
          "state": {
            "_view_name": "ImageView",
            "_dom_classes": [],
            "_model_name": "ImageModel",
            "format": "png",
            "_view_module": "@jupyter-widgets/controls",
            "_model_module_version": "1.5.0",
            "_view_count": null,
            "width": "",
            "_view_module_version": "1.5.0",
            "layout": "IPY_MODEL_362cff4ef64948f3b6c83b7af5522c4f",
            "height": "",
            "_model_module": "@jupyter-widgets/controls"
          }
        },
        "a917c85997f849f2b01f9d4e53278ace": {
          "model_module": "@jupyter-widgets/controls",
          "model_name": "ImageModel",
          "state": {
            "_view_name": "ImageView",
            "_dom_classes": [],
            "_model_name": "ImageModel",
            "format": "png",
            "_view_module": "@jupyter-widgets/controls",
            "_model_module_version": "1.5.0",
            "_view_count": null,
            "width": "",
            "_view_module_version": "1.5.0",
            "layout": "IPY_MODEL_2915d649e68c4c86b92725b0a5c9db74",
            "height": "",
            "_model_module": "@jupyter-widgets/controls"
          }
        },
        "831f5f23b98c4c7ea975251e78a939ac": {
          "model_module": "@jupyter-widgets/base",
          "model_name": "LayoutModel",
          "state": {
            "_view_name": "LayoutView",
            "grid_template_rows": null,
            "right": null,
            "justify_content": null,
            "_view_module": "@jupyter-widgets/base",
            "overflow": null,
            "_model_module_version": "1.2.0",
            "_view_count": null,
            "flex_flow": null,
            "width": null,
            "min_width": null,
            "border": null,
            "align_items": null,
            "bottom": null,
            "_model_module": "@jupyter-widgets/base",
            "top": null,
            "grid_column": null,
            "overflow_y": null,
            "overflow_x": null,
            "grid_auto_flow": null,
            "grid_area": null,
            "grid_template_columns": null,
            "flex": null,
            "_model_name": "LayoutModel",
            "justify_items": null,
            "grid_row": null,
            "max_height": null,
            "align_content": null,
            "visibility": null,
            "align_self": null,
            "height": null,
            "min_height": null,
            "padding": null,
            "grid_auto_rows": null,
            "grid_gap": null,
            "max_width": null,
            "order": null,
            "_view_module_version": "1.2.0",
            "grid_template_areas": null,
            "object_position": null,
            "object_fit": null,
            "grid_auto_columns": null,
            "margin": null,
            "display": null,
            "left": null
          }
        },
        "1c79a9a8f90b4171b1f5f0a81c4db705": {
          "model_module": "@jupyter-widgets/base",
          "model_name": "LayoutModel",
          "state": {
            "_view_name": "LayoutView",
            "grid_template_rows": null,
            "right": null,
            "justify_content": null,
            "_view_module": "@jupyter-widgets/base",
            "overflow": null,
            "_model_module_version": "1.2.0",
            "_view_count": null,
            "flex_flow": null,
            "width": null,
            "min_width": null,
            "border": null,
            "align_items": null,
            "bottom": null,
            "_model_module": "@jupyter-widgets/base",
            "top": null,
            "grid_column": null,
            "overflow_y": null,
            "overflow_x": null,
            "grid_auto_flow": null,
            "grid_area": null,
            "grid_template_columns": null,
            "flex": null,
            "_model_name": "LayoutModel",
            "justify_items": null,
            "grid_row": null,
            "max_height": null,
            "align_content": null,
            "visibility": null,
            "align_self": null,
            "height": null,
            "min_height": null,
            "padding": null,
            "grid_auto_rows": null,
            "grid_gap": null,
            "max_width": null,
            "order": null,
            "_view_module_version": "1.2.0",
            "grid_template_areas": null,
            "object_position": null,
            "object_fit": null,
            "grid_auto_columns": null,
            "margin": null,
            "display": null,
            "left": null
          }
        },
        "8c72bf1b6ce44d7d9dc05c8f79f66de6": {
          "model_module": "@jupyter-widgets/base",
          "model_name": "LayoutModel",
          "state": {
            "_view_name": "LayoutView",
            "grid_template_rows": null,
            "right": null,
            "justify_content": null,
            "_view_module": "@jupyter-widgets/base",
            "overflow": null,
            "_model_module_version": "1.2.0",
            "_view_count": null,
            "flex_flow": null,
            "width": null,
            "min_width": null,
            "border": null,
            "align_items": null,
            "bottom": null,
            "_model_module": "@jupyter-widgets/base",
            "top": null,
            "grid_column": null,
            "overflow_y": null,
            "overflow_x": null,
            "grid_auto_flow": null,
            "grid_area": null,
            "grid_template_columns": null,
            "flex": null,
            "_model_name": "LayoutModel",
            "justify_items": null,
            "grid_row": null,
            "max_height": null,
            "align_content": null,
            "visibility": null,
            "align_self": null,
            "height": null,
            "min_height": null,
            "padding": null,
            "grid_auto_rows": null,
            "grid_gap": null,
            "max_width": null,
            "order": null,
            "_view_module_version": "1.2.0",
            "grid_template_areas": null,
            "object_position": null,
            "object_fit": null,
            "grid_auto_columns": null,
            "margin": null,
            "display": null,
            "left": null
          }
        },
        "abcdf79531ef4471add387760cc7b24e": {
          "model_module": "@jupyter-widgets/base",
          "model_name": "LayoutModel",
          "state": {
            "_view_name": "LayoutView",
            "grid_template_rows": null,
            "right": null,
            "justify_content": null,
            "_view_module": "@jupyter-widgets/base",
            "overflow": null,
            "_model_module_version": "1.2.0",
            "_view_count": null,
            "flex_flow": null,
            "width": null,
            "min_width": null,
            "border": null,
            "align_items": null,
            "bottom": null,
            "_model_module": "@jupyter-widgets/base",
            "top": null,
            "grid_column": null,
            "overflow_y": null,
            "overflow_x": null,
            "grid_auto_flow": null,
            "grid_area": null,
            "grid_template_columns": null,
            "flex": null,
            "_model_name": "LayoutModel",
            "justify_items": null,
            "grid_row": null,
            "max_height": null,
            "align_content": null,
            "visibility": null,
            "align_self": null,
            "height": null,
            "min_height": null,
            "padding": null,
            "grid_auto_rows": null,
            "grid_gap": null,
            "max_width": null,
            "order": null,
            "_view_module_version": "1.2.0",
            "grid_template_areas": null,
            "object_position": null,
            "object_fit": null,
            "grid_auto_columns": null,
            "margin": null,
            "display": null,
            "left": null
          }
        },
        "72233d70cf274d4dbb69ab92e7dfc065": {
          "model_module": "@jupyter-widgets/base",
          "model_name": "LayoutModel",
          "state": {
            "_view_name": "LayoutView",
            "grid_template_rows": null,
            "right": null,
            "justify_content": null,
            "_view_module": "@jupyter-widgets/base",
            "overflow": null,
            "_model_module_version": "1.2.0",
            "_view_count": null,
            "flex_flow": null,
            "width": null,
            "min_width": null,
            "border": null,
            "align_items": null,
            "bottom": null,
            "_model_module": "@jupyter-widgets/base",
            "top": null,
            "grid_column": null,
            "overflow_y": null,
            "overflow_x": null,
            "grid_auto_flow": null,
            "grid_area": null,
            "grid_template_columns": null,
            "flex": null,
            "_model_name": "LayoutModel",
            "justify_items": null,
            "grid_row": null,
            "max_height": null,
            "align_content": null,
            "visibility": null,
            "align_self": null,
            "height": null,
            "min_height": null,
            "padding": null,
            "grid_auto_rows": null,
            "grid_gap": null,
            "max_width": null,
            "order": null,
            "_view_module_version": "1.2.0",
            "grid_template_areas": null,
            "object_position": null,
            "object_fit": null,
            "grid_auto_columns": null,
            "margin": null,
            "display": null,
            "left": null
          }
        },
        "b90b0a2aa2a04dc7abe5dc464563cf6a": {
          "model_module": "@jupyter-widgets/base",
          "model_name": "LayoutModel",
          "state": {
            "_view_name": "LayoutView",
            "grid_template_rows": null,
            "right": null,
            "justify_content": null,
            "_view_module": "@jupyter-widgets/base",
            "overflow": null,
            "_model_module_version": "1.2.0",
            "_view_count": null,
            "flex_flow": null,
            "width": null,
            "min_width": null,
            "border": null,
            "align_items": null,
            "bottom": null,
            "_model_module": "@jupyter-widgets/base",
            "top": null,
            "grid_column": null,
            "overflow_y": null,
            "overflow_x": null,
            "grid_auto_flow": null,
            "grid_area": null,
            "grid_template_columns": null,
            "flex": null,
            "_model_name": "LayoutModel",
            "justify_items": null,
            "grid_row": null,
            "max_height": null,
            "align_content": null,
            "visibility": null,
            "align_self": null,
            "height": null,
            "min_height": null,
            "padding": null,
            "grid_auto_rows": null,
            "grid_gap": null,
            "max_width": null,
            "order": null,
            "_view_module_version": "1.2.0",
            "grid_template_areas": null,
            "object_position": null,
            "object_fit": null,
            "grid_auto_columns": null,
            "margin": null,
            "display": null,
            "left": null
          }
        },
        "362cff4ef64948f3b6c83b7af5522c4f": {
          "model_module": "@jupyter-widgets/base",
          "model_name": "LayoutModel",
          "state": {
            "_view_name": "LayoutView",
            "grid_template_rows": null,
            "right": null,
            "justify_content": null,
            "_view_module": "@jupyter-widgets/base",
            "overflow": null,
            "_model_module_version": "1.2.0",
            "_view_count": null,
            "flex_flow": null,
            "width": null,
            "min_width": null,
            "border": null,
            "align_items": null,
            "bottom": null,
            "_model_module": "@jupyter-widgets/base",
            "top": null,
            "grid_column": null,
            "overflow_y": null,
            "overflow_x": null,
            "grid_auto_flow": null,
            "grid_area": null,
            "grid_template_columns": null,
            "flex": null,
            "_model_name": "LayoutModel",
            "justify_items": null,
            "grid_row": null,
            "max_height": null,
            "align_content": null,
            "visibility": null,
            "align_self": null,
            "height": null,
            "min_height": null,
            "padding": null,
            "grid_auto_rows": null,
            "grid_gap": null,
            "max_width": null,
            "order": null,
            "_view_module_version": "1.2.0",
            "grid_template_areas": null,
            "object_position": null,
            "object_fit": null,
            "grid_auto_columns": null,
            "margin": null,
            "display": null,
            "left": null
          }
        },
        "2915d649e68c4c86b92725b0a5c9db74": {
          "model_module": "@jupyter-widgets/base",
          "model_name": "LayoutModel",
          "state": {
            "_view_name": "LayoutView",
            "grid_template_rows": null,
            "right": null,
            "justify_content": null,
            "_view_module": "@jupyter-widgets/base",
            "overflow": null,
            "_model_module_version": "1.2.0",
            "_view_count": null,
            "flex_flow": null,
            "width": null,
            "min_width": null,
            "border": null,
            "align_items": null,
            "bottom": null,
            "_model_module": "@jupyter-widgets/base",
            "top": null,
            "grid_column": null,
            "overflow_y": null,
            "overflow_x": null,
            "grid_auto_flow": null,
            "grid_area": null,
            "grid_template_columns": null,
            "flex": null,
            "_model_name": "LayoutModel",
            "justify_items": null,
            "grid_row": null,
            "max_height": null,
            "align_content": null,
            "visibility": null,
            "align_self": null,
            "height": null,
            "min_height": null,
            "padding": null,
            "grid_auto_rows": null,
            "grid_gap": null,
            "max_width": null,
            "order": null,
            "_view_module_version": "1.2.0",
            "grid_template_areas": null,
            "object_position": null,
            "object_fit": null,
            "grid_auto_columns": null,
            "margin": null,
            "display": null,
            "left": null
          }
        }
      }
    }
  },
  "cells": [
    {
      "cell_type": "markdown",
      "metadata": {
        "id": "view-in-github",
        "colab_type": "text"
      },
      "source": [
        "<a href=\"https://colab.research.google.com/github/robfalck/dymos_tutorial/blob/main/01_dymos_cannonball_optimizer_iteration.ipynb\" target=\"_parent\"><img src=\"https://colab.research.google.com/assets/colab-badge.svg\" alt=\"Open In Colab\"/></a>"
      ]
    },
    {
      "cell_type": "markdown",
      "metadata": {
        "id": "BCtX7Xl9_OO_"
      },
      "source": [
        "# Dymos: The Basics\n",
        "\n",
        "Dymos is a library for optimal control built on top of [OpenMDAO](https://github.com/OpenMDAO/OpenMDAO).\n",
        "There are several quality optimal control packages available out there, both commercial and free, so why use Dymos?\n",
        "\n",
        "1. OpenMDAO is a framework for multidisciplinary optimization.  It allows derivatives for gradient-based optimization to be calculated across complex models, even models which include iterative solvers.\n",
        "\n",
        "2. Dymos makes use of gradient-based optimization of nonlinear transcriptions of optimal control problems: primarily Gauss-Lobatto collocation and the Radau Pseudospectral Method.  Using these techniques relies on the calculation of accurate derivatives across the model:  _If the initial state or parameter affecting a system is changed by x, how much does the final state change?_\n",
        "\n",
        "# Installing Dymos "
      ]
    },
    {
      "cell_type": "code",
      "metadata": {
        "colab": {
          "base_uri": "https://localhost:8080/"
        },
        "id": "qIINWcMI_bEn",
        "outputId": "ba30433a-8522-4ce3-d639-2329f4c03af6"
      },
      "source": [
        "!pip install dymos"
      ],
      "execution_count": 1,
      "outputs": [
        {
          "output_type": "stream",
          "text": [
            "Collecting dymos\n",
            "\u001b[?25l  Downloading https://files.pythonhosted.org/packages/fb/7c/e022b98f411443cec74a94cdc51f4e2de61f5a4c8e733941a218d62ad3d5/dymos-0.17.0.tar.gz (317kB)\n",
            "\u001b[K     |████████████████████████████████| 327kB 9.0MB/s \n",
            "\u001b[?25hCollecting openmdao>=3.3.0\n",
            "\u001b[?25l  Downloading https://files.pythonhosted.org/packages/bc/ca/ebbcda6c8d7868eaf415004b8e53ef22fb10de7b9a6384b8b2a7834571eb/openmdao-3.5.0.tar.gz (4.6MB)\n",
            "\u001b[K     |████████████████████████████████| 4.6MB 14.7MB/s \n",
            "\u001b[?25hRequirement already satisfied: numpy>=1.14.1 in /usr/local/lib/python3.6/dist-packages (from dymos) (1.18.5)\n",
            "Requirement already satisfied: scipy>=1.0.0 in /usr/local/lib/python3.6/dist-packages (from dymos) (1.4.1)\n",
            "Requirement already satisfied: networkx>=2.0 in /usr/local/lib/python3.6/dist-packages (from openmdao>=3.3.0->dymos) (2.5)\n",
            "Collecting pyDOE2\n",
            "  Downloading https://files.pythonhosted.org/packages/70/1f/8a2e1b57f6dd22cd2002e4332e229e87a3858d560c516b50ab7fe5bb075c/pyDOE2-1.3.0.tar.gz\n",
            "Requirement already satisfied: pyparsing in /usr/local/lib/python3.6/dist-packages (from openmdao>=3.3.0->dymos) (2.4.7)\n",
            "Requirement already satisfied: requests in /usr/local/lib/python3.6/dist-packages (from openmdao>=3.3.0->dymos) (2.23.0)\n",
            "Requirement already satisfied: decorator>=4.3.0 in /usr/local/lib/python3.6/dist-packages (from networkx>=2.0->openmdao>=3.3.0->dymos) (4.4.2)\n",
            "Requirement already satisfied: chardet<4,>=3.0.2 in /usr/local/lib/python3.6/dist-packages (from requests->openmdao>=3.3.0->dymos) (3.0.4)\n",
            "Requirement already satisfied: certifi>=2017.4.17 in /usr/local/lib/python3.6/dist-packages (from requests->openmdao>=3.3.0->dymos) (2020.12.5)\n",
            "Requirement already satisfied: idna<3,>=2.5 in /usr/local/lib/python3.6/dist-packages (from requests->openmdao>=3.3.0->dymos) (2.10)\n",
            "Requirement already satisfied: urllib3!=1.25.0,!=1.25.1,<1.26,>=1.21.1 in /usr/local/lib/python3.6/dist-packages (from requests->openmdao>=3.3.0->dymos) (1.24.3)\n",
            "Building wheels for collected packages: dymos, openmdao, pyDOE2\n",
            "  Building wheel for dymos (setup.py) ... \u001b[?25l\u001b[?25hdone\n",
            "  Created wheel for dymos: filename=dymos-0.17.0-cp36-none-any.whl size=510569 sha256=4e20c1a656acc5bd08eb48a084f26444d4ccd0226d68ad3eb61057e283d3f730\n",
            "  Stored in directory: /root/.cache/pip/wheels/80/0f/4e/c0a1ca83efbf8065746d13d3bde0d01685d91cbc1120aca992\n",
            "  Building wheel for openmdao (setup.py) ... \u001b[?25l\u001b[?25hdone\n",
            "  Created wheel for openmdao: filename=openmdao-3.5.0-cp36-none-any.whl size=4848170 sha256=ab8fc16580f8a61f3615c4632aac6b50be9267387c5d5233cffa93c30aa6c827\n",
            "  Stored in directory: /root/.cache/pip/wheels/c4/10/92/db967434445747069a88fa3c4165ddd5c101a74ecdee6d252f\n",
            "  Building wheel for pyDOE2 (setup.py) ... \u001b[?25l\u001b[?25hdone\n",
            "  Created wheel for pyDOE2: filename=pyDOE2-1.3.0-cp36-none-any.whl size=25519 sha256=b9e83bb63a869155d76d90643c1f2c70126ef8a0f29a55c797c082299b4263c7\n",
            "  Stored in directory: /root/.cache/pip/wheels/60/88/1d/b334ee00dd83e82d111ec56c3be91573d335c93870698037f1\n",
            "Successfully built dymos openmdao pyDOE2\n",
            "Installing collected packages: pyDOE2, openmdao, dymos\n",
            "Successfully installed dymos-0.17.0 openmdao-3.5.0 pyDOE2-1.3.0\n"
          ],
          "name": "stdout"
        }
      ]
    },
    {
      "cell_type": "markdown",
      "metadata": {
        "id": "Qo3TIWLe_zyX"
      },
      "source": [
        "# Simulating the flight of a basic projectile\n",
        "\n",
        "Dymos can simulate the dynamics of systems which are defined by systems of **ordinary differential equations** or (in some cases) **differential algebraic equations**.\n",
        "\n",
        "As a \"Hello, World!\" for Dymos, consider the differential equations which govern the flight of a projectile in a 2D, rectilinear, constant gravity field:\n",
        "\n",
        "\\begin{align}\n",
        "  \\ddot{x} &= 0 \\\\\n",
        "  \\ddot{y} &= -g\n",
        "\\end{align}\n",
        "\n",
        "Here $x$ is the horizontal position of the projectile, $y$ is the height, and $g$ is the acceleration due to gravity.\n",
        "\n",
        "To simulate this system in Dymos, we first convert this system of 2nd-order differential equations into 1st-order differential equations:\n",
        "\n",
        "\\begin{align}\n",
        "  \\dot{x} &= v_x \\\\\n",
        "  \\dot{y} &= v_y \\\\\n",
        "  \\dot{v_x} &= 0 \\\\\n",
        "  \\dot{v_y} &= -g\n",
        "\\end{align}"
      ]
    },
    {
      "cell_type": "markdown",
      "metadata": {
        "id": "rkm5GDlUBkJ9"
      },
      "source": [
        "# The ODE as an OpenMDAO System\n",
        "\n",
        "Dymos expects the ODE to be provided as an OpenMDAO _System_ - either a single Component, or a Group of components for more complex systems.\n",
        "\n",
        "To define our system, we'll first need to import some packages.\n",
        "Since we're not using parallel processing for this demo, we can ignore the warnings about `mpi4py` and `petsc4py`."
      ]
    },
    {
      "cell_type": "code",
      "metadata": {
        "colab": {
          "base_uri": "https://localhost:8080/"
        },
        "id": "wDzs3J0f_eEP",
        "outputId": "1c2b56c8-7e98-4323-a523-fb384981de0b"
      },
      "source": [
        "import numpy as np\n",
        "import openmdao.api as om\n",
        "import dymos as dm"
      ],
      "execution_count": 2,
      "outputs": [
        {
          "output_type": "stream",
          "text": [
            "Unable to import mpi4py. Parallel processing unavailable.\n",
            "Unable to import petsc4py. Parallel processing unavailable.\n",
            "Unable to import petsc4py. Parallel processing unavailable.\n"
          ],
          "name": "stdout"
        }
      ]
    },
    {
      "cell_type": "markdown",
      "metadata": {
        "id": "tDYOmRDvCsx8"
      },
      "source": [
        "The ODE System itself in this case is an OpenMDAO ExplicitComponent.  In most cases, ExplicitComponents used as ODE's in Dymos will need the following three methods defined:\n",
        "\n",
        "## `initialize`\n",
        "\n",
        "This method is used to declare options for Components and Groups in OpenMDAO.  In OpenMDAO, any option we create may be used as an initialization argument when we instantiate the class.  Dymos will always pass an option `num_nodes` to the ODE class.  This is the number of points at which the ODE is simultaneously evaluated.  This option is mandatory (it has no default value).\n",
        "\n",
        "## `setup`\n",
        "\n",
        "This is where inputs and outputs are added to our system.  In our case, the ODE accepts two inputs ('vx' and 'vy') and computes the time derivatives of our states: `x`, `y`, `vx`, and `vy`.\n",
        "\n",
        "For this system, the derivatives of the states `x` and `y` are provided by the states `vx` and `vy`.  Therefore it isn't necessary to have our ODE compute their rates, but in this case we will do so for simplicity.\n",
        "\n",
        "We use the OpenMDAO notion of `tags` to let Dymos know that a given output should be used to provide the rate of a state variable.  This makes the ODE a bit more modular, and prevents us from having to explicitly tell Dymos where to find the state's rate every time we use this ODE.  The two relevant tags here are:\n",
        "\n",
        "- state_rate_source:foo\n",
        "\n",
        "Provides the state rate source for the state named `foo`.\n",
        "\n",
        "- state_units:str\n",
        "\n",
        "Specify the default units for the associated state.\n",
        "\n",
        "Finally, we use the `declare_partials` method here to tell OpenMDAO that we want to approximate the partials of each output with respect to each input as a dense matrix using finite-difference differentiation.  Later, we'll demonstrate how to improve the efficiency of Dymos by being smarter about how we compute our derivatives.\n",
        "\n",
        "## `compute`\n",
        "\n",
        "The compute method is where we take values from our inputs then compute and populate the outputs.  The `inputs` and `outputs` are both provided as a dictionary-like interface."
      ]
    },
    {
      "cell_type": "code",
      "metadata": {
        "id": "iVfM_upVCUhQ"
      },
      "source": [
        "class ProjectileODE(om.ExplicitComponent):\n",
        "\n",
        "  def initialize(self):\n",
        "    self.options.declare('num_nodes', types=int,\n",
        "                         desc='the number of points at which this ODE is simultaneously evaluated')\n",
        "\n",
        "  def setup(self):\n",
        "    nn = self.options['num_nodes']\n",
        "    self.add_input('vx', shape=(nn,), units='m/s')\n",
        "    self.add_input('vy', shape=(nn,), units='m/s')\n",
        "\n",
        "    self.add_output('x_dot', shape=(nn,), units='m/s',\n",
        "                    tags=['state_rate_source:x', 'state_units:m'])\n",
        "\n",
        "    self.add_output('y_dot', shape=(nn,), units='m/s',\n",
        "                    tags=['state_rate_source:y', 'state_units:m'])\n",
        "\n",
        "    self.add_output('vx_dot', shape=(nn,), units='m/s**2',\n",
        "                    tags=['state_rate_source:vx', 'state_units:m/s'])\n",
        "\n",
        "    self.add_output('vy_dot', shape=(nn,), units='m/s**2',\n",
        "                    tags=['state_rate_source:vy', 'state_units:m/s'])\n",
        "    \n",
        "    self.declare_partials(of='*', wrt='*', method='fd')\n",
        "    \n",
        "  def compute(self, inputs, outputs):\n",
        "    outputs['x_dot'][:] = inputs['vx']\n",
        "    outputs['y_dot'][:] = inputs['vy']\n",
        "    outputs['vx_dot'][:] = 0.0\n",
        "    outputs['vy_dot'][:] = -9.81\n",
        "    \n"
      ],
      "execution_count": 3,
      "outputs": []
    },
    {
      "cell_type": "markdown",
      "metadata": {
        "id": "1tKza898L84Q"
      },
      "source": [
        "# Using the ODE\n",
        "\n",
        "Let's simulate the trajectory of a cannonball (assuming no drag) using our ODE.  There are a few ways to do this in Dymos:\n",
        "\n",
        "1. Explicitly - We can let `scipy.integrate.solve_ivp` propagate the ODE from some initial state.\n",
        "\n",
        "2. Implicitly - We can guess what the trajectory of the cannonball looks like over some set of discrete points in time and then use a nonlinear solver or an optimizer to iterate on that initial guess until it matches the dynamics given by the ODE.\n",
        "\n",
        "When solving large optimal control problems, Dymos will use the implicit approach to find control profile which minimizes some objective.\n",
        "\n",
        "The explicit simulation is typically used to generate an initial guess or to check the accuracy of the implicit solution.\n"
      ]
    },
    {
      "cell_type": "markdown",
      "metadata": {
        "id": "q4_-VEYwN7zq"
      },
      "source": [
        "# Phases\n",
        "\n",
        "The fundamental building block of trajectories in Dymos is the _Phase_.  A phase represents some portion of the trajectory in time.  We can break complex trajectories into many phases and then link them together to provide continuity in the states, but in a simple system we can often use a single phase to represent the entire trajectory.\n",
        "\n"
      ]
    },
    {
      "cell_type": "markdown",
      "metadata": {
        "id": "eyjktw_KOhg3"
      },
      "source": [
        "# Transcriptions\n",
        "\n",
        "Phases can be seen as a data structure which combines our ODE with some _transcription_.  In Dymos, a _transcription_ is a way of converting the _continous_ problem (finding polynomial representations of the optimal state and control histories of a system) into a _discrete_ representation that can be solved by a nonlinear solver or an nonlinear programming optimization algorithm.\n",
        "\n",
        "The transcriptions in Dymos break a Phase into one or more segments.  On each segment, each state and each control is represented as a polynomial in non-dimensional time.  Systems in which the states are highly nonlinear, with lots of oscillations, generally require a lot of segments.  Our cannonball system here is pretty benign, and can be accurately modeled by a single cubic polynomial segment (the lowest order possible in Dymos).\n"
      ]
    },
    {
      "cell_type": "markdown",
      "metadata": {
        "id": "Htj-Js5NWoJz"
      },
      "source": [
        "# Creating the OpenMDAO Problem\n",
        "\n",
        "So without further ado, let's instantiate an OpenMDAO problem and model our system as a Trajectory with a single Phase."
      ]
    },
    {
      "cell_type": "code",
      "metadata": {
        "id": "S9gRS_J4OhUh"
      },
      "source": [
        "prob = om.Problem()\n",
        "\n",
        "traj = prob.model.add_subsystem('traj', dm.Trajectory())\n",
        "\n",
        "phase = traj.add_phase('phase', dm.Phase(ode_class=ProjectileODE, transcription=dm.Radau(num_segments=1, order=3)))"
      ],
      "execution_count": 4,
      "outputs": []
    },
    {
      "cell_type": "markdown",
      "metadata": {
        "id": "atK_i-hrW3j_"
      },
      "source": [
        "# Propagating the ODE from some initial condition for some set amount of time\n",
        "\n",
        "In Dymos, each Phase has some _special_ variables: time, states, controls, and parameters.  To propagate our ODE, we'll need to apply some rules to our time and states - this problem has no control variables or parameters.\n",
        "\n",
        "First, we'll tell Dymos that the initial time for the Phase should not be treated as a design variable for the optimization.  Whatever initial time we specify will remain unchanged throughout the optimization.\n",
        "\n",
        "The duration of the phase is, in this case, limited to positive values from 1 second to 1000 seconds.  When optimizing the system, these _bounds_ prevent the optimizer from trying nonsensical values (negative times or a duratio of zero seconds."
      ]
    },
    {
      "cell_type": "code",
      "metadata": {
        "id": "AqPmSGWAEr_C"
      },
      "source": [
        "phase.set_time_options(fix_initial=True, duration_bounds=(1, 1000), units='s')"
      ],
      "execution_count": 5,
      "outputs": []
    },
    {
      "cell_type": "markdown",
      "metadata": {
        "id": "pZsgsNlIYS7z"
      },
      "source": [
        "Similarly, we're going to propagate the system from some known initial state, so we'll specify that that value is fixed."
      ]
    },
    {
      "cell_type": "code",
      "metadata": {
        "id": "EsedWznHYap9"
      },
      "source": [
        "phase.set_state_options('x', fix_initial=True)\n",
        "phase.set_state_options('y', fix_initial=True)\n",
        "phase.set_state_options('vx', fix_initial=True)\n",
        "phase.set_state_options('vy', fix_initial=True)"
      ],
      "execution_count": 6,
      "outputs": []
    },
    {
      "cell_type": "markdown",
      "metadata": {
        "id": "oY54TCQUYmu4"
      },
      "source": [
        "Next we call OpenMDAO's `Problem.setup` method.  This works out the various connections between the different systems that Dymos uses to solve this problem and allocates memory.  You can think of this step a bit like compiling our model before we run it."
      ]
    },
    {
      "cell_type": "code",
      "metadata": {
        "colab": {
          "base_uri": "https://localhost:8080/"
        },
        "id": "EwdLi24uYk_9",
        "outputId": "a6194232-9928-4b8d-da0d-6b6d2aca60b2"
      },
      "source": [
        "prob.setup()"
      ],
      "execution_count": 7,
      "outputs": [
        {
          "output_type": "execute_result",
          "data": {
            "text/plain": [
              "<openmdao.core.problem.Problem at 0x7f05ced7b358>"
            ]
          },
          "metadata": {
            "tags": []
          },
          "execution_count": 7
        }
      ]
    },
    {
      "cell_type": "markdown",
      "metadata": {
        "id": "LROYjvOHZORk"
      },
      "source": [
        "Now that the problem has been setup, we can specify guesses for the variables in our problem.\n",
        "\n",
        "`<path_to_phase>.t_initial` - The initial time of the given phase.  \n",
        "`<path_to_phase>.t_duration` - The time duration of the given phase."
      ]
    },
    {
      "cell_type": "code",
      "metadata": {
        "id": "PLBRLcXaZJW6"
      },
      "source": [
        "prob.set_val('traj.phase.t_initial', 0.0, units='s')\n",
        "prob.set_val('traj.phase.t_duration', 15.0, units='s')"
      ],
      "execution_count": 8,
      "outputs": []
    },
    {
      "cell_type": "markdown",
      "metadata": {
        "id": "5zZwVTG8Z1Wm"
      },
      "source": [
        "We provide guesses for the states across the phase.  Since it's difficult to know where the nodes of the transcription fall in time, Dymos provides some useful interpolation methods that can be used to provide guesses to the states in time.\n",
        "\n",
        "Since `fix_initial` is `True`, the given value at the first node will not be changed throughout an optimization."
      ]
    },
    {
      "cell_type": "code",
      "metadata": {
        "id": "ibxWQSYKZ0XI"
      },
      "source": [
        "prob.set_val('traj.phase.states:x', phase.interpolate(ys=[0, 100], nodes='state_input'), units='m')\n",
        "prob.set_val('traj.phase.states:y', phase.interpolate(ys=[0, 0], nodes='state_input'), units='m')\n",
        "prob.set_val('traj.phase.states:vx', phase.interpolate(ys=[100, 100], nodes='state_input'), units='m/s')\n",
        "prob.set_val('traj.phase.states:vy', phase.interpolate(ys=[100, -100], nodes='state_input'), units='m/s')"
      ],
      "execution_count": 9,
      "outputs": []
    },
    {
      "cell_type": "markdown",
      "metadata": {
        "id": "5K4qtuY2bKL3"
      },
      "source": [
        "# Propagating the Trajectory\n",
        "\n",
        "We'll use Dymos' convenience method, `run_problem` to execute the model without optimization (`run_driver=False`) and then simulate the problem from the given initial states for the given duration (`simulate=True`).\n",
        "\n",
        "Results of the optimization are automatically saved to the OpenMDAO record file `dymos_solution.db`, while the simulation is saved to `dymos_simulation.db`.  Plots of all of our timeseries variables (states and state rates in this case) are made and saved in the `plots` subdirectory."
      ]
    },
    {
      "cell_type": "code",
      "metadata": {
        "colab": {
          "base_uri": "https://localhost:8080/"
        },
        "id": "_VRoWFHba2XU",
        "outputId": "030f5468-38c2-4468-c185-c5f86aed77c0"
      },
      "source": [
        "dm.run_problem(prob, run_driver=False, simulate=True, make_plots=True)"
      ],
      "execution_count": 10,
      "outputs": [
        {
          "output_type": "stream",
          "text": [
            "\n",
            "Simulating trajectory traj\n",
            "Done simulating trajectory traj\n"
          ],
          "name": "stdout"
        }
      ]
    },
    {
      "cell_type": "code",
      "metadata": {
        "colab": {
          "base_uri": "https://localhost:8080/",
          "height": 1000,
          "referenced_widgets": [
            "2362bc6042894f7289aad635f98c958d",
            "0ace72bf002e41a4ab2018055a59addf",
            "b456274a047c4cf78ecc9a6626406325",
            "431d217a9455403bb65e1d1d20f87790",
            "4a57e5526cb54bd8b0674abf4c6c3adb",
            "6db1cccaea32437d9bf9d2bbe5f9b72f",
            "16b148d62be744cba00718557a712461",
            "e114469dc2f14133985e14d24fc8511e",
            "bbefc96166464ef5984540842ca6e113",
            "a917c85997f849f2b01f9d4e53278ace",
            "831f5f23b98c4c7ea975251e78a939ac",
            "1c79a9a8f90b4171b1f5f0a81c4db705",
            "8c72bf1b6ce44d7d9dc05c8f79f66de6",
            "abcdf79531ef4471add387760cc7b24e",
            "72233d70cf274d4dbb69ab92e7dfc065",
            "b90b0a2aa2a04dc7abe5dc464563cf6a",
            "362cff4ef64948f3b6c83b7af5522c4f",
            "2915d649e68c4c86b92725b0a5c9db74"
          ]
        },
        "id": "HADStGTVbUTb",
        "outputId": "204d351b-2dfc-46fc-c1ab-5357449db882"
      },
      "source": [
        "# TODO: Make these more automatic (and use an interactive plot library like bokeh)\n",
        "\n",
        "from IPython.display import display\n",
        "from ipywidgets import widgets, GridBox\n",
        "\n",
        "items = [widgets.Image(value=open(f'plots/states_{state}.png', 'rb').read()) for state in ['x', 'y', 'vx', 'vy']] + \\\n",
        "[widgets.Image(value=open(f'plots/state_rates_{state}.png', 'rb').read()) for state in ['x', 'y', 'vx', 'vy']]\n",
        "widgets.GridBox(items, layout=widgets.Layout(grid_template_columns=\"repeat(2, 500px)\"))\n"
      ],
      "execution_count": 11,
      "outputs": [
        {
          "output_type": "display_data",
          "data": {
            "application/vnd.jupyter.widget-view+json": {
              "model_id": "2362bc6042894f7289aad635f98c958d",
              "version_minor": 0,
              "version_major": 2
            },
            "text/plain": [
              "GridBox(children=(Image(value=b'\\x89PNG\\r\\n\\x1a\\n\\x00\\x00\\x00\\rIHDR\\x00\\x00\\x01\\xb0\\x00\\x00\\x01 \\x08\\x06\\x00\\x…"
            ]
          },
          "metadata": {
            "tags": []
          }
        }
      ]
    },
    {
      "cell_type": "markdown",
      "metadata": {
        "id": "PtZ--VPonJbN"
      },
      "source": [
        "The plots above show the _implicit_ solution of the states over time (as discrete points) in comparison to a more continuous integration of the states generated by `scipy.integrate.solve_ivp`.\n",
        "\n",
        "There is disagreement between these two solutions.  Since no iteration was performed, the discrete points represent the interpolated initial guess we specified above, while the simulation results are more accurate (to the precision provided by the methods underlying `scipy.integrate.solve_ivp`.)"
      ]
    },
    {
      "cell_type": "markdown",
      "metadata": {
        "id": "zlMEYRcJuj5A"
      },
      "source": [
        "# Summary\n",
        "\n",
        "The simulate method in Dymos is useful to see how the dynamics evolve, but does not currently provide a useful way of targeting or optimizing a trajectory.\n",
        "\n",
        "For that, we need to use a nonlinear solver or optimizer to satisfy constraints in the system."
      ]
    },
    {
      "cell_type": "markdown",
      "metadata": {
        "id": "b8MT2i8Fs-gN"
      },
      "source": [
        "# Boundary Value Problem:  Vary duration such that the cannonball hits the ground\n",
        "\n",
        "In order to solve a boundary value problem, we have to allow the system to iterate.  With OpenMDAO, that gives us two options:\n",
        "\n",
        "1. Use an optimization driver to enforce the constraints.\n",
        "2. Use a nonlinear solver to enforce the constraints."
      ]
    }
  ]
}